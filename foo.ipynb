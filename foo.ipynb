{
 "cells": [
  {
   "cell_type": "markdown",
   "metadata": {},
   "source": [
    "# title placeholder\n"
   ]
  },
  {
   "cell_type": "code",
   "execution_count": 2,
   "metadata": {},
   "outputs": [],
   "source": [
    "import pandas as pd\n",
    "import numpy as np\n",
    "import matplotlib.pyplot as plt\n",
    "import plotly.express as px\n",
    "import plotly.graph_objects as go\n"
   ]
  },
  {
   "cell_type": "markdown",
   "metadata": {},
   "source": [
    "## Data Loading\n"
   ]
  },
  {
   "cell_type": "code",
   "execution_count": 3,
   "metadata": {},
   "outputs": [],
   "source": [
    "ebird_data = pd.read_csv(\"ebird_nm_2022.csv\")\n"
   ]
  },
  {
   "cell_type": "code",
   "execution_count": 4,
   "metadata": {},
   "outputs": [
    {
     "data": {
      "text/html": [
       "<div>\n",
       "<style scoped>\n",
       "    .dataframe tbody tr th:only-of-type {\n",
       "        vertical-align: middle;\n",
       "    }\n",
       "\n",
       "    .dataframe tbody tr th {\n",
       "        vertical-align: top;\n",
       "    }\n",
       "\n",
       "    .dataframe thead th {\n",
       "        text-align: right;\n",
       "    }\n",
       "</style>\n",
       "<table border=\"1\" class=\"dataframe\">\n",
       "  <thead>\n",
       "    <tr style=\"text-align: right;\">\n",
       "      <th></th>\n",
       "      <th>Unnamed: 0</th>\n",
       "      <th>COMMON_NAME</th>\n",
       "      <th>LATITUDE</th>\n",
       "      <th>LONGITUDE</th>\n",
       "      <th>OBSERVATION_DATE</th>\n",
       "    </tr>\n",
       "  </thead>\n",
       "  <tbody>\n",
       "    <tr>\n",
       "      <th>0</th>\n",
       "      <td>0</td>\n",
       "      <td>Mallard/Mexican Duck</td>\n",
       "      <td>35.158855</td>\n",
       "      <td>-106.633675</td>\n",
       "      <td>2015-04-11</td>\n",
       "    </tr>\n",
       "    <tr>\n",
       "      <th>1</th>\n",
       "      <td>1</td>\n",
       "      <td>Common Merganser</td>\n",
       "      <td>33.802000</td>\n",
       "      <td>-106.880000</td>\n",
       "      <td>2005-12-27</td>\n",
       "    </tr>\n",
       "    <tr>\n",
       "      <th>2</th>\n",
       "      <td>2</td>\n",
       "      <td>Long-billed Dowitcher</td>\n",
       "      <td>33.802000</td>\n",
       "      <td>-106.880000</td>\n",
       "      <td>2005-02-03</td>\n",
       "    </tr>\n",
       "    <tr>\n",
       "      <th>3</th>\n",
       "      <td>3</td>\n",
       "      <td>American Avocet</td>\n",
       "      <td>33.802000</td>\n",
       "      <td>-106.880000</td>\n",
       "      <td>2007-04-14</td>\n",
       "    </tr>\n",
       "    <tr>\n",
       "      <th>4</th>\n",
       "      <td>4</td>\n",
       "      <td>Great Egret</td>\n",
       "      <td>33.802000</td>\n",
       "      <td>-106.880000</td>\n",
       "      <td>2003-05-22</td>\n",
       "    </tr>\n",
       "  </tbody>\n",
       "</table>\n",
       "</div>"
      ],
      "text/plain": [
       "   Unnamed: 0            COMMON_NAME   LATITUDE   LONGITUDE OBSERVATION_DATE\n",
       "0           0   Mallard/Mexican Duck  35.158855 -106.633675       2015-04-11\n",
       "1           1       Common Merganser  33.802000 -106.880000       2005-12-27\n",
       "2           2  Long-billed Dowitcher  33.802000 -106.880000       2005-02-03\n",
       "3           3        American Avocet  33.802000 -106.880000       2007-04-14\n",
       "4           4            Great Egret  33.802000 -106.880000       2003-05-22"
      ]
     },
     "execution_count": 4,
     "metadata": {},
     "output_type": "execute_result"
    }
   ],
   "source": [
    "ebird_data.head()\n"
   ]
  },
  {
   "cell_type": "code",
   "execution_count": 5,
   "metadata": {},
   "outputs": [
    {
     "data": {
      "text/plain": [
       "(9009593, 5)"
      ]
     },
     "execution_count": 5,
     "metadata": {},
     "output_type": "execute_result"
    }
   ],
   "source": [
    "ebird_data.shape\n"
   ]
  },
  {
   "cell_type": "markdown",
   "metadata": {},
   "source": [
    "## Quick Data Cleaning\n"
   ]
  },
  {
   "cell_type": "code",
   "execution_count": 6,
   "metadata": {},
   "outputs": [
    {
     "name": "stdout",
     "output_type": "stream",
     "text": [
      "<class 'pandas.core.frame.DataFrame'>\n",
      "RangeIndex: 9009593 entries, 0 to 9009592\n",
      "Data columns (total 5 columns):\n",
      " #   Column            Dtype  \n",
      "---  ------            -----  \n",
      " 0   Unnamed: 0        int64  \n",
      " 1   COMMON_NAME       object \n",
      " 2   LATITUDE          float64\n",
      " 3   LONGITUDE         float64\n",
      " 4   OBSERVATION_DATE  object \n",
      "dtypes: float64(2), int64(1), object(2)\n",
      "memory usage: 343.7+ MB\n"
     ]
    }
   ],
   "source": [
    "ebird_data.info()\n"
   ]
  },
  {
   "cell_type": "code",
   "execution_count": 7,
   "metadata": {},
   "outputs": [],
   "source": [
    "ebird_data.columns = ebird_data.columns.str.title()()\n"
   ]
  },
  {
   "cell_type": "code",
   "execution_count": 8,
   "metadata": {},
   "outputs": [
    {
     "data": {
      "text/plain": [
       "Index(['unnamed: 0', 'common_name', 'latitude', 'longitude',\n",
       "       'observation_date'],\n",
       "      dtype='object')"
      ]
     },
     "execution_count": 8,
     "metadata": {},
     "output_type": "execute_result"
    }
   ],
   "source": [
    "ebird_data.columns\n"
   ]
  },
  {
   "cell_type": "code",
   "execution_count": 9,
   "metadata": {},
   "outputs": [],
   "source": [
    "#drop first column\n",
    "ebird_data = ebird_data.drop(columns=['Unnamed: 0'])\n"
   ]
  },
  {
   "cell_type": "code",
   "execution_count": null,
   "metadata": {},
   "outputs": [],
   "source": [
    "# replace underscores with spaces in column names\n",
    "ebird_data.columns = ebird_data.columns.str.replace('_', ' ')\n"
   ]
  },
  {
   "cell_type": "code",
   "execution_count": 10,
   "metadata": {},
   "outputs": [],
   "source": [
    "ebird_data['Observation_date'] = pd.to_datetime(ebird_data['Observation_date'])\n"
   ]
  },
  {
   "cell_type": "code",
   "execution_count": 55,
   "metadata": {},
   "outputs": [],
   "source": [
    "def add_datetime_components(df, datetime_column_name) -> None:\n",
    "    \"\"\"\n",
    "    Extracts components of a datetime column into new columns\n",
    "    \n",
    "    Args:\n",
    "        df (pd.DataFrame): \n",
    "        datetime_column_name (str): Datetime column name \n",
    "\n",
    "    Returns:\n",
    "        None, modifies the dataframe in place\n",
    "    \"\"\"\n",
    "    # extract datetime components into new columns\n",
    "    df['Month'] = df[datetime_column_name].dt.month\n",
    "    df['Year'] = df[datetime_column_name].dt.year\n",
    "    df['Week Of Year'] = df[datetime_column_name].dt.isocalendar().week\n",
    "    df['Day'] = df[datetime_column_name].dt.dayofyear\n",
    "    \n",
    "    return None\n"
   ]
  },
  {
   "cell_type": "code",
   "execution_count": null,
   "metadata": {},
   "outputs": [],
   "source": [
    "add_datetime_components(ebird_data, 'Observation Date')\n"
   ]
  },
  {
   "cell_type": "code",
   "execution_count": 12,
   "metadata": {},
   "outputs": [
    {
     "data": {
      "text/html": [
       "<div>\n",
       "<style scoped>\n",
       "    .dataframe tbody tr th:only-of-type {\n",
       "        vertical-align: middle;\n",
       "    }\n",
       "\n",
       "    .dataframe tbody tr th {\n",
       "        vertical-align: top;\n",
       "    }\n",
       "\n",
       "    .dataframe thead th {\n",
       "        text-align: right;\n",
       "    }\n",
       "</style>\n",
       "<table border=\"1\" class=\"dataframe\">\n",
       "  <thead>\n",
       "    <tr style=\"text-align: right;\">\n",
       "      <th></th>\n",
       "      <th>common_name</th>\n",
       "      <th>latitude</th>\n",
       "      <th>longitude</th>\n",
       "      <th>observation_date</th>\n",
       "      <th>year</th>\n",
       "      <th>month</th>\n",
       "      <th>day</th>\n",
       "      <th>week of year</th>\n",
       "    </tr>\n",
       "  </thead>\n",
       "  <tbody>\n",
       "    <tr>\n",
       "      <th>0</th>\n",
       "      <td>Mallard/Mexican Duck</td>\n",
       "      <td>35.158855</td>\n",
       "      <td>-106.633675</td>\n",
       "      <td>2015-04-11</td>\n",
       "      <td>2015</td>\n",
       "      <td>4</td>\n",
       "      <td>11</td>\n",
       "      <td>15</td>\n",
       "    </tr>\n",
       "    <tr>\n",
       "      <th>1</th>\n",
       "      <td>Common Merganser</td>\n",
       "      <td>33.802000</td>\n",
       "      <td>-106.880000</td>\n",
       "      <td>2005-12-27</td>\n",
       "      <td>2005</td>\n",
       "      <td>12</td>\n",
       "      <td>27</td>\n",
       "      <td>52</td>\n",
       "    </tr>\n",
       "    <tr>\n",
       "      <th>2</th>\n",
       "      <td>Long-billed Dowitcher</td>\n",
       "      <td>33.802000</td>\n",
       "      <td>-106.880000</td>\n",
       "      <td>2005-02-03</td>\n",
       "      <td>2005</td>\n",
       "      <td>2</td>\n",
       "      <td>3</td>\n",
       "      <td>5</td>\n",
       "    </tr>\n",
       "    <tr>\n",
       "      <th>3</th>\n",
       "      <td>American Avocet</td>\n",
       "      <td>33.802000</td>\n",
       "      <td>-106.880000</td>\n",
       "      <td>2007-04-14</td>\n",
       "      <td>2007</td>\n",
       "      <td>4</td>\n",
       "      <td>14</td>\n",
       "      <td>15</td>\n",
       "    </tr>\n",
       "    <tr>\n",
       "      <th>4</th>\n",
       "      <td>Great Egret</td>\n",
       "      <td>33.802000</td>\n",
       "      <td>-106.880000</td>\n",
       "      <td>2003-05-22</td>\n",
       "      <td>2003</td>\n",
       "      <td>5</td>\n",
       "      <td>22</td>\n",
       "      <td>21</td>\n",
       "    </tr>\n",
       "  </tbody>\n",
       "</table>\n",
       "</div>"
      ],
      "text/plain": [
       "             common_name   latitude   longitude observation_date  year  month  \\\n",
       "0   Mallard/Mexican Duck  35.158855 -106.633675       2015-04-11  2015      4   \n",
       "1       Common Merganser  33.802000 -106.880000       2005-12-27  2005     12   \n",
       "2  Long-billed Dowitcher  33.802000 -106.880000       2005-02-03  2005      2   \n",
       "3        American Avocet  33.802000 -106.880000       2007-04-14  2007      4   \n",
       "4            Great Egret  33.802000 -106.880000       2003-05-22  2003      5   \n",
       "\n",
       "   day  week of year  \n",
       "0   11            15  \n",
       "1   27            52  \n",
       "2    3             5  \n",
       "3   14            15  \n",
       "4   22            21  "
      ]
     },
     "execution_count": 12,
     "metadata": {},
     "output_type": "execute_result"
    }
   ],
   "source": [
    "ebird_data.head() \n"
   ]
  },
  {
   "cell_type": "code",
   "execution_count": 13,
   "metadata": {},
   "outputs": [],
   "source": [
    "ebird_data_copy = ebird_data.copy()\n"
   ]
  },
  {
   "cell_type": "markdown",
   "metadata": {},
   "source": [
    "## Functions\n"
   ]
  },
  {
   "cell_type": "code",
   "execution_count": null,
   "metadata": {},
   "outputs": [],
   "source": []
  },
  {
   "cell_type": "markdown",
   "metadata": {},
   "source": [
    "### Species Observations Over Time\n"
   ]
  },
  {
   "cell_type": "code",
   "execution_count": 14,
   "metadata": {},
   "outputs": [],
   "source": [
    "def species_observations_over_time(data: pd.DataFrame, species: str, time_units: str) -> pd.DataFrame:\n",
    "    \"\"\"\n",
    "    This function takes a dataframe and returns a dataframe with the number of observations of a species over a given unit of time.\n",
    "    i.e. number of obersvations of the American Crow per month, week, or day.\n",
    "\n",
    "    Args:\n",
    "        data (pd.DataFrame): eBird dataframe\n",
    "        species (str): Bird Species of interest\n",
    "        time_units (str): Unit of time to aggregate observations. Options: 'Month', 'Week', 'Day'\n",
    "\n",
    "    Raises:\n",
    "        ValueError: If time unit is not supported\n",
    "        ValueError: If species is not found in data\n",
    "\n",
    "    Returns:\n",
    "        pd.DataFrame: DataFrame with the number of observations of a species over a given unit of time.\n",
    "    \"\"\"\n",
    "    # Dictionary to map time units to column names\n",
    "    time_dict = {\n",
    "        'Month': 'month',\n",
    "        'Week': 'week of year',\n",
    "        'Day': 'day',\n",
    "    }\n",
    "    \n",
    "    if time_units not in time_dict:\n",
    "        raise ValueError(f\"Time unit {time_units} not supported\")\n",
    "    \n",
    "    species_data = data[data['common_name'] == species]\n",
    "    \n",
    "    if species_data.empty:\n",
    "        raise ValueError(f\"Species {species} not found in data\")\n",
    "    \n",
    "    species_observations = species_data.groupby(['Year', time_dict[time_units]]).size().reset_index(name='Observations')\n",
    "    \n",
    "    return species_observations\n"
   ]
  },
  {
   "cell_type": "markdown",
   "metadata": {},
   "source": [
    "Example Usage\n"
   ]
  },
  {
   "cell_type": "code",
   "execution_count": 16,
   "metadata": {},
   "outputs": [
    {
     "data": {
      "text/html": [
       "<div>\n",
       "<style scoped>\n",
       "    .dataframe tbody tr th:only-of-type {\n",
       "        vertical-align: middle;\n",
       "    }\n",
       "\n",
       "    .dataframe tbody tr th {\n",
       "        vertical-align: top;\n",
       "    }\n",
       "\n",
       "    .dataframe thead th {\n",
       "        text-align: right;\n",
       "    }\n",
       "</style>\n",
       "<table border=\"1\" class=\"dataframe\">\n",
       "  <thead>\n",
       "    <tr style=\"text-align: right;\">\n",
       "      <th></th>\n",
       "      <th>year</th>\n",
       "      <th>month</th>\n",
       "      <th>observations</th>\n",
       "    </tr>\n",
       "  </thead>\n",
       "  <tbody>\n",
       "    <tr>\n",
       "      <th>0</th>\n",
       "      <td>1990</td>\n",
       "      <td>1</td>\n",
       "      <td>21</td>\n",
       "    </tr>\n",
       "    <tr>\n",
       "      <th>1</th>\n",
       "      <td>1990</td>\n",
       "      <td>2</td>\n",
       "      <td>21</td>\n",
       "    </tr>\n",
       "    <tr>\n",
       "      <th>2</th>\n",
       "      <td>1990</td>\n",
       "      <td>3</td>\n",
       "      <td>13</td>\n",
       "    </tr>\n",
       "    <tr>\n",
       "      <th>3</th>\n",
       "      <td>1990</td>\n",
       "      <td>4</td>\n",
       "      <td>4</td>\n",
       "    </tr>\n",
       "    <tr>\n",
       "      <th>4</th>\n",
       "      <td>1990</td>\n",
       "      <td>5</td>\n",
       "      <td>5</td>\n",
       "    </tr>\n",
       "    <tr>\n",
       "      <th>5</th>\n",
       "      <td>1990</td>\n",
       "      <td>6</td>\n",
       "      <td>1</td>\n",
       "    </tr>\n",
       "    <tr>\n",
       "      <th>6</th>\n",
       "      <td>1990</td>\n",
       "      <td>7</td>\n",
       "      <td>1</td>\n",
       "    </tr>\n",
       "    <tr>\n",
       "      <th>7</th>\n",
       "      <td>1990</td>\n",
       "      <td>8</td>\n",
       "      <td>15</td>\n",
       "    </tr>\n",
       "    <tr>\n",
       "      <th>8</th>\n",
       "      <td>1990</td>\n",
       "      <td>9</td>\n",
       "      <td>14</td>\n",
       "    </tr>\n",
       "    <tr>\n",
       "      <th>9</th>\n",
       "      <td>1990</td>\n",
       "      <td>10</td>\n",
       "      <td>15</td>\n",
       "    </tr>\n",
       "    <tr>\n",
       "      <th>10</th>\n",
       "      <td>1990</td>\n",
       "      <td>11</td>\n",
       "      <td>23</td>\n",
       "    </tr>\n",
       "    <tr>\n",
       "      <th>11</th>\n",
       "      <td>1990</td>\n",
       "      <td>12</td>\n",
       "      <td>12</td>\n",
       "    </tr>\n",
       "  </tbody>\n",
       "</table>\n",
       "</div>"
      ],
      "text/plain": [
       "    year  month  observations\n",
       "0   1990      1            21\n",
       "1   1990      2            21\n",
       "2   1990      3            13\n",
       "3   1990      4             4\n",
       "4   1990      5             5\n",
       "5   1990      6             1\n",
       "6   1990      7             1\n",
       "7   1990      8            15\n",
       "8   1990      9            14\n",
       "9   1990     10            15\n",
       "10  1990     11            23\n",
       "11  1990     12            12"
      ]
     },
     "execution_count": 16,
     "metadata": {},
     "output_type": "execute_result"
    }
   ],
   "source": [
    "american_crow_monthly = species_observations_over_time(ebird_data, 'American Crow', 'Month')\n",
    "american_crow_monthly.head(12)\n"
   ]
  },
  {
   "cell_type": "code",
   "execution_count": 27,
   "metadata": {},
   "outputs": [
    {
     "data": {
      "text/plain": [
       "array([1990, 1991, 1992, 1993, 1994, 1995, 1996, 1997, 1998, 1999, 2000,\n",
       "       2001, 2002, 2003, 2004, 2005, 2006, 2007, 2008, 2009, 2010, 2011,\n",
       "       2012, 2013, 2014, 2015, 2016, 2017, 2018, 2019, 2020, 2021, 2022],\n",
       "      dtype=int64)"
      ]
     },
     "execution_count": 27,
     "metadata": {},
     "output_type": "execute_result"
    }
   ],
   "source": [
    "american_crow_monthly['year'].unique()\n"
   ]
  },
  {
   "cell_type": "code",
   "execution_count": 57,
   "metadata": {},
   "outputs": [
    {
     "data": {
      "text/html": [
       "<div>\n",
       "<style scoped>\n",
       "    .dataframe tbody tr th:only-of-type {\n",
       "        vertical-align: middle;\n",
       "    }\n",
       "\n",
       "    .dataframe tbody tr th {\n",
       "        vertical-align: top;\n",
       "    }\n",
       "\n",
       "    .dataframe thead th {\n",
       "        text-align: right;\n",
       "    }\n",
       "</style>\n",
       "<table border=\"1\" class=\"dataframe\">\n",
       "  <thead>\n",
       "    <tr style=\"text-align: right;\">\n",
       "      <th></th>\n",
       "      <th>year</th>\n",
       "      <th>week of year</th>\n",
       "      <th>observations</th>\n",
       "    </tr>\n",
       "  </thead>\n",
       "  <tbody>\n",
       "    <tr>\n",
       "      <th>0</th>\n",
       "      <td>1990</td>\n",
       "      <td>1</td>\n",
       "      <td>5</td>\n",
       "    </tr>\n",
       "    <tr>\n",
       "      <th>1</th>\n",
       "      <td>1990</td>\n",
       "      <td>2</td>\n",
       "      <td>4</td>\n",
       "    </tr>\n",
       "    <tr>\n",
       "      <th>2</th>\n",
       "      <td>1990</td>\n",
       "      <td>3</td>\n",
       "      <td>4</td>\n",
       "    </tr>\n",
       "    <tr>\n",
       "      <th>3</th>\n",
       "      <td>1990</td>\n",
       "      <td>4</td>\n",
       "      <td>8</td>\n",
       "    </tr>\n",
       "    <tr>\n",
       "      <th>4</th>\n",
       "      <td>1990</td>\n",
       "      <td>5</td>\n",
       "      <td>8</td>\n",
       "    </tr>\n",
       "    <tr>\n",
       "      <th>5</th>\n",
       "      <td>1990</td>\n",
       "      <td>6</td>\n",
       "      <td>6</td>\n",
       "    </tr>\n",
       "    <tr>\n",
       "      <th>6</th>\n",
       "      <td>1990</td>\n",
       "      <td>7</td>\n",
       "      <td>3</td>\n",
       "    </tr>\n",
       "    <tr>\n",
       "      <th>7</th>\n",
       "      <td>1990</td>\n",
       "      <td>8</td>\n",
       "      <td>4</td>\n",
       "    </tr>\n",
       "    <tr>\n",
       "      <th>8</th>\n",
       "      <td>1990</td>\n",
       "      <td>9</td>\n",
       "      <td>3</td>\n",
       "    </tr>\n",
       "    <tr>\n",
       "      <th>9</th>\n",
       "      <td>1990</td>\n",
       "      <td>11</td>\n",
       "      <td>1</td>\n",
       "    </tr>\n",
       "    <tr>\n",
       "      <th>10</th>\n",
       "      <td>1990</td>\n",
       "      <td>12</td>\n",
       "      <td>5</td>\n",
       "    </tr>\n",
       "    <tr>\n",
       "      <th>11</th>\n",
       "      <td>1990</td>\n",
       "      <td>13</td>\n",
       "      <td>4</td>\n",
       "    </tr>\n",
       "  </tbody>\n",
       "</table>\n",
       "</div>"
      ],
      "text/plain": [
       "    year  week of year  observations\n",
       "0   1990             1             5\n",
       "1   1990             2             4\n",
       "2   1990             3             4\n",
       "3   1990             4             8\n",
       "4   1990             5             8\n",
       "5   1990             6             6\n",
       "6   1990             7             3\n",
       "7   1990             8             4\n",
       "8   1990             9             3\n",
       "9   1990            11             1\n",
       "10  1990            12             5\n",
       "11  1990            13             4"
      ]
     },
     "execution_count": 57,
     "metadata": {},
     "output_type": "execute_result"
    }
   ],
   "source": [
    "american_crow_weekly = species_observations_over_time(ebird_data, 'American Crow', 'week')\n",
    "american_crow_weekly.head(12)\n"
   ]
  },
  {
   "cell_type": "markdown",
   "metadata": {},
   "source": [
    "## Polynomial Fit\n"
   ]
  },
  {
   "cell_type": "code",
   "execution_count": 38,
   "metadata": {},
   "outputs": [],
   "source": [
    "def calculate_fitted_polynomials(data: pd.DataFrame, time_units: str, degree: int) -> np.ndarray:\n",
    "    \"\"\"\n",
    "    This function takes a dataframe and returns an array of the coefficients of the polynomial that best fits the number of observations of a species over a given unit of time.\n",
    "\n",
    "    Args:\n",
    "        data (pd.DataFrame): Aggregate dataframe of species observations over time\n",
    "        species (str): Species of interest\n",
    "        time_units (str): Unit of time to aggregate observations. Options: 'Month', 'Week', 'Day'\n",
    "        degree (int): Degree of the polynomial to fit the data\n",
    "\n",
    "    Returns:\n",
    "        np.ndarray: Array of the coefficients of the polynomial that best fits the number of observations of a species over a given unit of time.\n",
    "    \"\"\"\n",
    "    #create an empty numpy array to store the polynomials\n",
    "    polynomial_array = np.array([])\n",
    "    #loop through the years in the data and fit a polynomial to the observations\n",
    "    for year in data['year'].unique():\n",
    "        species_year = data[data['year'] == year]\n",
    "        x = species_year[time_units]\n",
    "        y = species_year['observations']\n",
    "        poly = np.polyfit(x, y, degree)\n",
    "        polynomial_array = np.append(polynomial_array, poly)\n",
    "             \n",
    "    return polynomial_array\n",
    "    \n",
    "    \n",
    "\n"
   ]
  },
  {
   "cell_type": "code",
   "execution_count": 28,
   "metadata": {},
   "outputs": [
    {
     "data": {
      "text/plain": [
       "33"
      ]
     },
     "execution_count": 28,
     "metadata": {},
     "output_type": "execute_result"
    }
   ],
   "source": [
    "american_crow_polynomials = calculate_fitted_polynomials(american_crow_monthly, 'month', 5)\n",
    "len(american_crow_polynomials)\n"
   ]
  },
  {
   "cell_type": "markdown",
   "metadata": {},
   "source": [
    "## Calculate Inflection Points\n"
   ]
  },
  {
   "cell_type": "code",
   "execution_count": 39,
   "metadata": {},
   "outputs": [],
   "source": [
    "def calculate_inflection_points(polynomial: np.array) -> np.ndarray:\n",
    "    \"\"\"\n",
    "    This function takes an array of polynomial coefficients and returns an array of the inflection points of the polynomial.\n",
    "\n",
    "    Args:\n",
    "        polynomial (np.array): Array of polynomial coefficients\n",
    "\n",
    "    Returns:\n",
    "        np.ndarray: Array of the inflection points of the polynomial.\n",
    "    \"\"\"\n",
    "    #create an empty numpy array to store the inflection points\n",
    "    inflection_points = np.array([])\n",
    "    #loop through the array of polynomials and calculate the inflection points\n",
    "    for poly in polynomial:\n",
    "        p = np.poly1d(poly)\n",
    "        second_derivative = np.polyder(p, 2)\n",
    "        inflection = np.roots(second_derivative)\n",
    "        inflection_points = np.append(inflection_points, inflection)\n",
    "\n",
    "    return inflection_points\n"
   ]
  },
  {
   "cell_type": "markdown",
   "metadata": {},
   "source": [
    "### Example Usage"
   ]
  },
  {
   "cell_type": "markdown",
   "metadata": {},
   "source": [
    "## Plot Bird Observations with Polynomial Fit"
   ]
  },
  {
   "cell_type": "code",
   "execution_count": 50,
   "metadata": {},
   "outputs": [],
   "source": [
    "def plot_obervations_with_polynomial_fit(data: pd.DataFrame, species: str, time_units: str, degree: int) -> None:\n",
    "    \"\"\"\n",
    "    This function takes a dataframe and plots the number of observations of a species over a given unit of time with the polynomial that best fits the data.\n",
    "\n",
    "    Args:\n",
    "        data (pd.DataFrame): eBird dataframe\n",
    "        species (str): Bird Species of interest\n",
    "        time_units (str): Unit of time to aggregate observations. Options: 'Month', 'Week', 'Day'\n",
    "        degree (int): Degree of the polynomial to fit the data\n",
    "\n",
    "    Returns:\n",
    "        None, but displays a plot\n",
    "    \"\"\"\n",
    "    # get species observations\n",
    "    species_observations = species_observations_over_time(data, species, time_units)\n",
    "    # calculate polynomial coefficients\n",
    "    polynomial_coefficients = calculate_fitted_polynomials(species_observations, time_units, degree)\n",
    "    # calculate inflection points\n",
    "    inflection_points = calculate_inflection_points(polynomial_coefficients)\n",
    "    \n",
    "    # plot observations\n",
    "    fig = px.line(species_observations,\n",
    "                  x=time_units,\n",
    "                  y='observations',\n",
    "                  color='year',\n",
    "                  markers=False,\n",
    "                  title=f'Observation Count for {species} by {time_units.title()}')\n",
    "    \n",
    "    # plot polynomial approximations for each year\n",
    "    for year in species_observations['year'].unique():\n",
    "        year_data = species_observations[species_observations['year'] == year]\n",
    "        coefficients = np.polyfit(year_data[time_units], year_data['observations'], degree)\n",
    "        polynomial = np.poly1d(coefficients)\n",
    "        \n",
    "        fig.add_scatter(x=year_data[time_units],\n",
    "                        y=polynomial(year_data[time_units]),\n",
    "                        mode='lines', line=dict(dash='dash'),\n",
    "                        visible='legendonly',\n",
    "                        name=f'Polynomial Approximation ({year})'\n",
    "                        )\n",
    "    \n",
    "    # TODO: plot inflection points as vertical dashed lines\n",
    "\n",
    "\n",
    "    # display plot\n",
    "    fig.show()\n",
    "    \n",
    "    return None\n",
    "    \n",
    "   \n"
   ]
  },
  {
   "cell_type": "markdown",
   "metadata": {},
   "source": [
    "### Example Usage"
   ]
  },
  {
   "cell_type": "code",
   "execution_count": 54,
   "metadata": {},
   "outputs": [
    {
     "data": {
      "application/vnd.plotly.v1+json": {
       "config": {
        "plotlyServerURL": "https://plot.ly"
       },
       "data": [
        {
         "hovertemplate": "year=1990<br>month=%{x}<br>observations=%{y}<extra></extra>",
         "legendgroup": "1990",
         "line": {
          "color": "#636efa",
          "dash": "solid"
         },
         "marker": {
          "symbol": "circle"
         },
         "mode": "lines",
         "name": "1990",
         "orientation": "v",
         "showlegend": true,
         "type": "scatter",
         "x": [
          1,
          2,
          3,
          4,
          5,
          6,
          7,
          8,
          9,
          10,
          11,
          12
         ],
         "xaxis": "x",
         "y": [
          21,
          21,
          13,
          4,
          5,
          1,
          1,
          15,
          14,
          15,
          23,
          12
         ],
         "yaxis": "y"
        },
        {
         "hovertemplate": "year=1991<br>month=%{x}<br>observations=%{y}<extra></extra>",
         "legendgroup": "1991",
         "line": {
          "color": "#EF553B",
          "dash": "solid"
         },
         "marker": {
          "symbol": "circle"
         },
         "mode": "lines",
         "name": "1991",
         "orientation": "v",
         "showlegend": true,
         "type": "scatter",
         "x": [
          1,
          2,
          3,
          4,
          5,
          6,
          7,
          8,
          9,
          10,
          11,
          12
         ],
         "xaxis": "x",
         "y": [
          3,
          9,
          13,
          12,
          15,
          6,
          1,
          12,
          9,
          16,
          20,
          15
         ],
         "yaxis": "y"
        },
        {
         "hovertemplate": "year=1992<br>month=%{x}<br>observations=%{y}<extra></extra>",
         "legendgroup": "1992",
         "line": {
          "color": "#00cc96",
          "dash": "solid"
         },
         "marker": {
          "symbol": "circle"
         },
         "mode": "lines",
         "name": "1992",
         "orientation": "v",
         "showlegend": true,
         "type": "scatter",
         "x": [
          1,
          2,
          3,
          4,
          5,
          6,
          7,
          8,
          9,
          10,
          11,
          12
         ],
         "xaxis": "x",
         "y": [
          9,
          13,
          12,
          10,
          3,
          5,
          1,
          13,
          14,
          7,
          10,
          11
         ],
         "yaxis": "y"
        },
        {
         "hovertemplate": "year=1993<br>month=%{x}<br>observations=%{y}<extra></extra>",
         "legendgroup": "1993",
         "line": {
          "color": "#ab63fa",
          "dash": "solid"
         },
         "marker": {
          "symbol": "circle"
         },
         "mode": "lines",
         "name": "1993",
         "orientation": "v",
         "showlegend": true,
         "type": "scatter",
         "x": [
          1,
          2,
          3,
          4,
          5,
          6,
          7,
          8,
          9,
          10,
          11,
          12
         ],
         "xaxis": "x",
         "y": [
          19,
          17,
          15,
          6,
          11,
          3,
          3,
          19,
          12,
          22,
          22,
          8
         ],
         "yaxis": "y"
        },
        {
         "hovertemplate": "year=1994<br>month=%{x}<br>observations=%{y}<extra></extra>",
         "legendgroup": "1994",
         "line": {
          "color": "#FFA15A",
          "dash": "solid"
         },
         "marker": {
          "symbol": "circle"
         },
         "mode": "lines",
         "name": "1994",
         "orientation": "v",
         "showlegend": true,
         "type": "scatter",
         "x": [
          1,
          2,
          3,
          4,
          5,
          6,
          7,
          8,
          9,
          10,
          11,
          12
         ],
         "xaxis": "x",
         "y": [
          15,
          16,
          16,
          23,
          26,
          19,
          24,
          26,
          39,
          44,
          19,
          14
         ],
         "yaxis": "y"
        },
        {
         "hovertemplate": "year=1995<br>month=%{x}<br>observations=%{y}<extra></extra>",
         "legendgroup": "1995",
         "line": {
          "color": "#19d3f3",
          "dash": "solid"
         },
         "marker": {
          "symbol": "circle"
         },
         "mode": "lines",
         "name": "1995",
         "orientation": "v",
         "showlegend": true,
         "type": "scatter",
         "x": [
          1,
          2,
          3,
          4,
          5,
          6,
          7,
          8,
          9,
          10,
          11,
          12
         ],
         "xaxis": "x",
         "y": [
          17,
          12,
          17,
          28,
          34,
          13,
          13,
          58,
          54,
          48,
          30,
          14
         ],
         "yaxis": "y"
        },
        {
         "hovertemplate": "year=1996<br>month=%{x}<br>observations=%{y}<extra></extra>",
         "legendgroup": "1996",
         "line": {
          "color": "#FF6692",
          "dash": "solid"
         },
         "marker": {
          "symbol": "circle"
         },
         "mode": "lines",
         "name": "1996",
         "orientation": "v",
         "showlegend": true,
         "type": "scatter",
         "x": [
          1,
          2,
          3,
          4,
          5,
          6,
          7,
          8,
          9,
          10,
          11,
          12
         ],
         "xaxis": "x",
         "y": [
          16,
          15,
          21,
          12,
          20,
          20,
          6,
          29,
          16,
          41,
          33,
          15
         ],
         "yaxis": "y"
        },
        {
         "hovertemplate": "year=1997<br>month=%{x}<br>observations=%{y}<extra></extra>",
         "legendgroup": "1997",
         "line": {
          "color": "#B6E880",
          "dash": "solid"
         },
         "marker": {
          "symbol": "circle"
         },
         "mode": "lines",
         "name": "1997",
         "orientation": "v",
         "showlegend": true,
         "type": "scatter",
         "x": [
          1,
          2,
          3,
          4,
          5,
          6,
          7,
          8,
          9,
          10,
          11,
          12
         ],
         "xaxis": "x",
         "y": [
          11,
          16,
          19,
          6,
          5,
          16,
          10,
          25,
          18,
          28,
          33,
          12
         ],
         "yaxis": "y"
        },
        {
         "hovertemplate": "year=1998<br>month=%{x}<br>observations=%{y}<extra></extra>",
         "legendgroup": "1998",
         "line": {
          "color": "#FF97FF",
          "dash": "solid"
         },
         "marker": {
          "symbol": "circle"
         },
         "mode": "lines",
         "name": "1998",
         "orientation": "v",
         "showlegend": true,
         "type": "scatter",
         "x": [
          1,
          2,
          3,
          4,
          5,
          6,
          7,
          8,
          9,
          10,
          11,
          12
         ],
         "xaxis": "x",
         "y": [
          23,
          18,
          27,
          21,
          25,
          21,
          15,
          18,
          11,
          41,
          25,
          19
         ],
         "yaxis": "y"
        },
        {
         "hovertemplate": "year=1999<br>month=%{x}<br>observations=%{y}<extra></extra>",
         "legendgroup": "1999",
         "line": {
          "color": "#FECB52",
          "dash": "solid"
         },
         "marker": {
          "symbol": "circle"
         },
         "mode": "lines",
         "name": "1999",
         "orientation": "v",
         "showlegend": true,
         "type": "scatter",
         "x": [
          1,
          2,
          3,
          4,
          5,
          6,
          7,
          8,
          9,
          10,
          11,
          12
         ],
         "xaxis": "x",
         "y": [
          16,
          18,
          19,
          8,
          25,
          25,
          8,
          22,
          21,
          24,
          17,
          19
         ],
         "yaxis": "y"
        },
        {
         "hovertemplate": "year=2000<br>month=%{x}<br>observations=%{y}<extra></extra>",
         "legendgroup": "2000",
         "line": {
          "color": "#636efa",
          "dash": "solid"
         },
         "marker": {
          "symbol": "circle"
         },
         "mode": "lines",
         "name": "2000",
         "orientation": "v",
         "showlegend": true,
         "type": "scatter",
         "x": [
          1,
          2,
          3,
          4,
          5,
          6,
          7,
          8,
          9,
          10,
          11,
          12
         ],
         "xaxis": "x",
         "y": [
          25,
          13,
          12,
          15,
          6,
          15,
          11,
          29,
          26,
          35,
          35,
          21
         ],
         "yaxis": "y"
        },
        {
         "hovertemplate": "year=2001<br>month=%{x}<br>observations=%{y}<extra></extra>",
         "legendgroup": "2001",
         "line": {
          "color": "#EF553B",
          "dash": "solid"
         },
         "marker": {
          "symbol": "circle"
         },
         "mode": "lines",
         "name": "2001",
         "orientation": "v",
         "showlegend": true,
         "type": "scatter",
         "x": [
          1,
          2,
          3,
          4,
          5,
          6,
          7,
          8,
          9,
          10,
          11,
          12
         ],
         "xaxis": "x",
         "y": [
          22,
          17,
          23,
          19,
          21,
          13,
          10,
          21,
          26,
          33,
          25,
          20
         ],
         "yaxis": "y"
        },
        {
         "hovertemplate": "year=2002<br>month=%{x}<br>observations=%{y}<extra></extra>",
         "legendgroup": "2002",
         "line": {
          "color": "#00cc96",
          "dash": "solid"
         },
         "marker": {
          "symbol": "circle"
         },
         "mode": "lines",
         "name": "2002",
         "orientation": "v",
         "showlegend": true,
         "type": "scatter",
         "x": [
          1,
          2,
          3,
          4,
          5,
          6,
          7,
          8,
          9,
          10,
          11,
          12
         ],
         "xaxis": "x",
         "y": [
          38,
          33,
          38,
          28,
          28,
          34,
          34,
          31,
          22,
          56,
          60,
          34
         ],
         "yaxis": "y"
        },
        {
         "hovertemplate": "year=2003<br>month=%{x}<br>observations=%{y}<extra></extra>",
         "legendgroup": "2003",
         "line": {
          "color": "#ab63fa",
          "dash": "solid"
         },
         "marker": {
          "symbol": "circle"
         },
         "mode": "lines",
         "name": "2003",
         "orientation": "v",
         "showlegend": true,
         "type": "scatter",
         "x": [
          1,
          2,
          3,
          4,
          5,
          6,
          7,
          8,
          9,
          10,
          11,
          12
         ],
         "xaxis": "x",
         "y": [
          80,
          43,
          47,
          25,
          43,
          29,
          29,
          40,
          10,
          51,
          57,
          67
         ],
         "yaxis": "y"
        },
        {
         "hovertemplate": "year=2004<br>month=%{x}<br>observations=%{y}<extra></extra>",
         "legendgroup": "2004",
         "line": {
          "color": "#FFA15A",
          "dash": "solid"
         },
         "marker": {
          "symbol": "circle"
         },
         "mode": "lines",
         "name": "2004",
         "orientation": "v",
         "showlegend": true,
         "type": "scatter",
         "x": [
          1,
          2,
          3,
          4,
          5,
          6,
          7,
          8,
          9,
          10,
          11,
          12
         ],
         "xaxis": "x",
         "y": [
          84,
          70,
          71,
          34,
          19,
          35,
          18,
          19,
          21,
          48,
          103,
          56
         ],
         "yaxis": "y"
        },
        {
         "hovertemplate": "year=2005<br>month=%{x}<br>observations=%{y}<extra></extra>",
         "legendgroup": "2005",
         "line": {
          "color": "#19d3f3",
          "dash": "solid"
         },
         "marker": {
          "symbol": "circle"
         },
         "mode": "lines",
         "name": "2005",
         "orientation": "v",
         "showlegend": true,
         "type": "scatter",
         "x": [
          1,
          2,
          3,
          4,
          5,
          6,
          7,
          8,
          9,
          10,
          11,
          12
         ],
         "xaxis": "x",
         "y": [
          56,
          76,
          68,
          34,
          18,
          23,
          18,
          11,
          21,
          44,
          65,
          50
         ],
         "yaxis": "y"
        },
        {
         "hovertemplate": "year=2006<br>month=%{x}<br>observations=%{y}<extra></extra>",
         "legendgroup": "2006",
         "line": {
          "color": "#FF6692",
          "dash": "solid"
         },
         "marker": {
          "symbol": "circle"
         },
         "mode": "lines",
         "name": "2006",
         "orientation": "v",
         "showlegend": true,
         "type": "scatter",
         "x": [
          1,
          2,
          3,
          4,
          5,
          6,
          7,
          8,
          9,
          10,
          11,
          12
         ],
         "xaxis": "x",
         "y": [
          91,
          81,
          84,
          38,
          49,
          44,
          37,
          19,
          28,
          68,
          161,
          131
         ],
         "yaxis": "y"
        },
        {
         "hovertemplate": "year=2007<br>month=%{x}<br>observations=%{y}<extra></extra>",
         "legendgroup": "2007",
         "line": {
          "color": "#B6E880",
          "dash": "solid"
         },
         "marker": {
          "symbol": "circle"
         },
         "mode": "lines",
         "name": "2007",
         "orientation": "v",
         "showlegend": true,
         "type": "scatter",
         "x": [
          1,
          2,
          3,
          4,
          5,
          6,
          7,
          8,
          9,
          10,
          11,
          12
         ],
         "xaxis": "x",
         "y": [
          138,
          115,
          114,
          42,
          49,
          27,
          24,
          36,
          20,
          75,
          180,
          130
         ],
         "yaxis": "y"
        },
        {
         "hovertemplate": "year=2008<br>month=%{x}<br>observations=%{y}<extra></extra>",
         "legendgroup": "2008",
         "line": {
          "color": "#FF97FF",
          "dash": "solid"
         },
         "marker": {
          "symbol": "circle"
         },
         "mode": "lines",
         "name": "2008",
         "orientation": "v",
         "showlegend": true,
         "type": "scatter",
         "x": [
          1,
          2,
          3,
          4,
          5,
          6,
          7,
          8,
          9,
          10,
          11,
          12
         ],
         "xaxis": "x",
         "y": [
          128,
          110,
          91,
          50,
          30,
          30,
          15,
          14,
          45,
          33,
          115,
          103
         ],
         "yaxis": "y"
        },
        {
         "hovertemplate": "year=2009<br>month=%{x}<br>observations=%{y}<extra></extra>",
         "legendgroup": "2009",
         "line": {
          "color": "#FECB52",
          "dash": "solid"
         },
         "marker": {
          "symbol": "circle"
         },
         "mode": "lines",
         "name": "2009",
         "orientation": "v",
         "showlegend": true,
         "type": "scatter",
         "x": [
          1,
          2,
          3,
          4,
          5,
          6,
          7,
          8,
          9,
          10,
          11,
          12
         ],
         "xaxis": "x",
         "y": [
          185,
          106,
          123,
          72,
          83,
          70,
          49,
          82,
          62,
          84,
          217,
          174
         ],
         "yaxis": "y"
        },
        {
         "hovertemplate": "year=2010<br>month=%{x}<br>observations=%{y}<extra></extra>",
         "legendgroup": "2010",
         "line": {
          "color": "#636efa",
          "dash": "solid"
         },
         "marker": {
          "symbol": "circle"
         },
         "mode": "lines",
         "name": "2010",
         "orientation": "v",
         "showlegend": true,
         "type": "scatter",
         "x": [
          1,
          2,
          3,
          4,
          5,
          6,
          7,
          8,
          9,
          10,
          11,
          12
         ],
         "xaxis": "x",
         "y": [
          251,
          250,
          225,
          157,
          123,
          78,
          70,
          59,
          68,
          175,
          226,
          309
         ],
         "yaxis": "y"
        },
        {
         "hovertemplate": "year=2011<br>month=%{x}<br>observations=%{y}<extra></extra>",
         "legendgroup": "2011",
         "line": {
          "color": "#EF553B",
          "dash": "solid"
         },
         "marker": {
          "symbol": "circle"
         },
         "mode": "lines",
         "name": "2011",
         "orientation": "v",
         "showlegend": true,
         "type": "scatter",
         "x": [
          1,
          2,
          3,
          4,
          5,
          6,
          7,
          8,
          9,
          10,
          11,
          12
         ],
         "xaxis": "x",
         "y": [
          366,
          355,
          256,
          158,
          148,
          47,
          77,
          84,
          79,
          197,
          248,
          288
         ],
         "yaxis": "y"
        },
        {
         "hovertemplate": "year=2012<br>month=%{x}<br>observations=%{y}<extra></extra>",
         "legendgroup": "2012",
         "line": {
          "color": "#00cc96",
          "dash": "solid"
         },
         "marker": {
          "symbol": "circle"
         },
         "mode": "lines",
         "name": "2012",
         "orientation": "v",
         "showlegend": true,
         "type": "scatter",
         "x": [
          1,
          2,
          3,
          4,
          5,
          6,
          7,
          8,
          9,
          10,
          11,
          12
         ],
         "xaxis": "x",
         "y": [
          512,
          409,
          362,
          205,
          173,
          161,
          143,
          97,
          117,
          225,
          349,
          451
         ],
         "yaxis": "y"
        },
        {
         "hovertemplate": "year=2013<br>month=%{x}<br>observations=%{y}<extra></extra>",
         "legendgroup": "2013",
         "line": {
          "color": "#ab63fa",
          "dash": "solid"
         },
         "marker": {
          "symbol": "circle"
         },
         "mode": "lines",
         "name": "2013",
         "orientation": "v",
         "showlegend": true,
         "type": "scatter",
         "x": [
          1,
          2,
          3,
          4,
          5,
          6,
          7,
          8,
          9,
          10,
          11,
          12
         ],
         "xaxis": "x",
         "y": [
          575,
          665,
          400,
          284,
          257,
          121,
          127,
          100,
          134,
          254,
          402,
          633
         ],
         "yaxis": "y"
        },
        {
         "hovertemplate": "year=2014<br>month=%{x}<br>observations=%{y}<extra></extra>",
         "legendgroup": "2014",
         "line": {
          "color": "#FFA15A",
          "dash": "solid"
         },
         "marker": {
          "symbol": "circle"
         },
         "mode": "lines",
         "name": "2014",
         "orientation": "v",
         "showlegend": true,
         "type": "scatter",
         "x": [
          1,
          2,
          3,
          4,
          5,
          6,
          7,
          8,
          9,
          10,
          11,
          12
         ],
         "xaxis": "x",
         "y": [
          669,
          489,
          630,
          441,
          299,
          194,
          205,
          166,
          204,
          266,
          595,
          547
         ],
         "yaxis": "y"
        },
        {
         "hovertemplate": "year=2015<br>month=%{x}<br>observations=%{y}<extra></extra>",
         "legendgroup": "2015",
         "line": {
          "color": "#19d3f3",
          "dash": "solid"
         },
         "marker": {
          "symbol": "circle"
         },
         "mode": "lines",
         "name": "2015",
         "orientation": "v",
         "showlegend": true,
         "type": "scatter",
         "x": [
          1,
          2,
          3,
          4,
          5,
          6,
          7,
          8,
          9,
          10,
          11,
          12
         ],
         "xaxis": "x",
         "y": [
          1019,
          647,
          717,
          468,
          403,
          241,
          195,
          216,
          235,
          321,
          505,
          578
         ],
         "yaxis": "y"
        },
        {
         "hovertemplate": "year=2016<br>month=%{x}<br>observations=%{y}<extra></extra>",
         "legendgroup": "2016",
         "line": {
          "color": "#FF6692",
          "dash": "solid"
         },
         "marker": {
          "symbol": "circle"
         },
         "mode": "lines",
         "name": "2016",
         "orientation": "v",
         "showlegend": true,
         "type": "scatter",
         "x": [
          1,
          2,
          3,
          4,
          5,
          6,
          7,
          8,
          9,
          10,
          11,
          12
         ],
         "xaxis": "x",
         "y": [
          749,
          634,
          530,
          424,
          483,
          353,
          330,
          359,
          239,
          488,
          636,
          787
         ],
         "yaxis": "y"
        },
        {
         "hovertemplate": "year=2017<br>month=%{x}<br>observations=%{y}<extra></extra>",
         "legendgroup": "2017",
         "line": {
          "color": "#B6E880",
          "dash": "solid"
         },
         "marker": {
          "symbol": "circle"
         },
         "mode": "lines",
         "name": "2017",
         "orientation": "v",
         "showlegend": true,
         "type": "scatter",
         "x": [
          1,
          2,
          3,
          4,
          5,
          6,
          7,
          8,
          9,
          10,
          11,
          12
         ],
         "xaxis": "x",
         "y": [
          907,
          1118,
          937,
          691,
          692,
          393,
          372,
          376,
          503,
          775,
          1178,
          1190
         ],
         "yaxis": "y"
        },
        {
         "hovertemplate": "year=2018<br>month=%{x}<br>observations=%{y}<extra></extra>",
         "legendgroup": "2018",
         "line": {
          "color": "#FF97FF",
          "dash": "solid"
         },
         "marker": {
          "symbol": "circle"
         },
         "mode": "lines",
         "name": "2018",
         "orientation": "v",
         "showlegend": true,
         "type": "scatter",
         "x": [
          1,
          2,
          3,
          4,
          5,
          6,
          7,
          8,
          9,
          10,
          11,
          12
         ],
         "xaxis": "x",
         "y": [
          1500,
          1160,
          1225,
          931,
          812,
          422,
          486,
          589,
          562,
          988,
          1122,
          1523
         ],
         "yaxis": "y"
        },
        {
         "hovertemplate": "year=2019<br>month=%{x}<br>observations=%{y}<extra></extra>",
         "legendgroup": "2019",
         "line": {
          "color": "#FECB52",
          "dash": "solid"
         },
         "marker": {
          "symbol": "circle"
         },
         "mode": "lines",
         "name": "2019",
         "orientation": "v",
         "showlegend": true,
         "type": "scatter",
         "x": [
          1,
          2,
          3,
          4,
          5,
          6,
          7,
          8,
          9,
          10,
          11,
          12
         ],
         "xaxis": "x",
         "y": [
          1643,
          1358,
          1715,
          1131,
          883,
          558,
          590,
          606,
          615,
          994,
          1361,
          1387
         ],
         "yaxis": "y"
        },
        {
         "hovertemplate": "year=2020<br>month=%{x}<br>observations=%{y}<extra></extra>",
         "legendgroup": "2020",
         "line": {
          "color": "#636efa",
          "dash": "solid"
         },
         "marker": {
          "symbol": "circle"
         },
         "mode": "lines",
         "name": "2020",
         "orientation": "v",
         "showlegend": true,
         "type": "scatter",
         "x": [
          1,
          2,
          3,
          4,
          5,
          6,
          7,
          8,
          9,
          10,
          11,
          12
         ],
         "xaxis": "x",
         "y": [
          1787,
          1498,
          1521,
          1352,
          1148,
          661,
          669,
          893,
          985,
          1939,
          2052,
          2409
         ],
         "yaxis": "y"
        },
        {
         "hovertemplate": "year=2021<br>month=%{x}<br>observations=%{y}<extra></extra>",
         "legendgroup": "2021",
         "line": {
          "color": "#EF553B",
          "dash": "solid"
         },
         "marker": {
          "symbol": "circle"
         },
         "mode": "lines",
         "name": "2021",
         "orientation": "v",
         "showlegend": true,
         "type": "scatter",
         "x": [
          1,
          2,
          3,
          4,
          5,
          6,
          7,
          8,
          9,
          10,
          11,
          12
         ],
         "xaxis": "x",
         "y": [
          2382,
          2057,
          2093,
          1620,
          1433,
          813,
          881,
          653,
          838,
          1347,
          1834,
          2070
         ],
         "yaxis": "y"
        },
        {
         "hovertemplate": "year=2022<br>month=%{x}<br>observations=%{y}<extra></extra>",
         "legendgroup": "2022",
         "line": {
          "color": "#00cc96",
          "dash": "solid"
         },
         "marker": {
          "symbol": "circle"
         },
         "mode": "lines",
         "name": "2022",
         "orientation": "v",
         "showlegend": true,
         "type": "scatter",
         "x": [
          1,
          2,
          3,
          4,
          5,
          6,
          7,
          8,
          9,
          10,
          11,
          12
         ],
         "xaxis": "x",
         "y": [
          2293,
          2170,
          2084,
          1421,
          1163,
          806,
          913,
          854,
          1040,
          1532,
          1961,
          2358
         ],
         "yaxis": "y"
        },
        {
         "line": {
          "dash": "dash"
         },
         "mode": "lines",
         "name": "Polynomial Approximation (1990)",
         "type": "scatter",
         "visible": "legendonly",
         "x": [
          1,
          2,
          3,
          4,
          5,
          6,
          7,
          8,
          9,
          10,
          11,
          12
         ],
         "y": [
          21.428733031674,
          19.78918140682856,
          13.213183874948493,
          6.400658165363685,
          2.114767585355258,
          1.4952694364453176,
          4.371863430686345,
          9.577540106951025,
          15.2619292472224,
          19.204648292882183,
          19.128650761002156,
          13.013574660632349
         ]
        },
        {
         "line": {
          "dash": "dash"
         },
         "mode": "lines",
         "name": "Polynomial Approximation (1991)",
         "type": "scatter",
         "visible": "legendonly",
         "x": [
          1,
          2,
          3,
          4,
          5,
          6,
          7,
          8,
          9,
          10,
          11,
          12
         ],
         "y": [
          2.8450226244338355,
          9.262443438913941,
          13.018202385849605,
          13.303784450843537,
          10.951871657754303,
          7.742904154669235,
          5.71164129987705,
          6.45372274784102,
          10.432229535171553,
          16.284245166599085,
          20.12741670094698,
          14.866515837104586
         ]
        },
        {
         "line": {
          "dash": "dash"
         },
         "mode": "lines",
         "name": "Polynomial Approximation (1992)",
         "type": "scatter",
         "visible": "legendonly",
         "x": [
          1,
          2,
          3,
          4,
          5,
          6,
          7,
          8,
          9,
          10,
          11,
          12
         ],
         "y": [
          8.290723981900928,
          14.882455779514824,
          11.947860962566825,
          7.069004524886676,
          4.117235705470623,
          4.1785273549973105,
          6.478815302343758,
          9.30933772110097,
          10.951974496090248,
          10.60458658987839,
          9.306355409293875,
          10.863122171944436
         ]
        },
        {
         "line": {
          "dash": "dash"
         },
         "mode": "lines",
         "name": "Polynomial Approximation (1993)",
         "type": "scatter",
         "visible": "legendonly",
         "x": [
          1,
          2,
          3,
          4,
          5,
          6,
          7,
          8,
          9,
          10,
          11,
          12
         ],
         "y": [
          19.022624434388764,
          17.19693541752369,
          13.604483751542688,
          9.516968325791922,
          6.319210201563159,
          5.204853969559869,
          6.872069107363279,
          11.219251336898484,
          17.04072398190054,
          21.722439325380527,
          20.937679967091622,
          8.342760180995256
         ]
        },
        {
         "line": {
          "dash": "dash"
         },
         "mode": "lines",
         "name": "Polynomial Approximation (1994)",
         "type": "scatter",
         "visible": "legendonly",
         "x": [
          1,
          2,
          3,
          4,
          5,
          6,
          7,
          8,
          9,
          10,
          11,
          12
         ],
         "y": [
          14.069004524886797,
          17.29689428218805,
          18.907136980666326,
          19.775092554504546,
          20.851912793089564,
          22.906622788975888,
          26.26820238584937,
          30.567667626490937,
          34.480152200740264,
          35.46698889345956,
          29.517791032497037,
          10.892533936651066
         ]
        },
        {
         "line": {
          "dash": "dash"
         },
         "mode": "lines",
         "name": "Polynomial Approximation (1995)",
         "type": "scatter",
         "visible": "legendonly",
         "x": [
          1,
          2,
          3,
          4,
          5,
          6,
          7,
          8,
          9,
          10,
          11,
          12
         ],
         "y": [
          13.80769230769247,
          19.09790209790182,
          19.674825174825163,
          19.503496503496788,
          21.111888111888412,
          25.62937062937066,
          32.825174825174464,
          41.14685314685253,
          47.758741258740635,
          48.58041958041923,
          38.325174825174805,
          10.538461538461116
         ]
        },
        {
         "line": {
          "dash": "dash"
         },
         "mode": "lines",
         "name": "Polynomial Approximation (1996)",
         "type": "scatter",
         "visible": "legendonly",
         "x": [
          1,
          2,
          3,
          4,
          5,
          6,
          7,
          8,
          9,
          10,
          11,
          12
         ],
         "y": [
          16.147058823528937,
          15.314171122994889,
          17.59522830111134,
          18.464315096668923,
          17.13780337309845,
          15.163718634307894,
          15.011106540519293,
          18.65939942410642,
          26.18778280543101,
          34.3645619086808,
          35.23652817770505,
          14.718325791853413
         ]
        },
        {
         "line": {
          "dash": "dash"
         },
         "mode": "lines",
         "name": "Polynomial Approximation (1997)",
         "type": "scatter",
         "visible": "legendonly",
         "x": [
          1,
          2,
          3,
          4,
          5,
          6,
          7,
          8,
          9,
          10,
          11,
          12
         ],
         "y": [
          11.557692307691902,
          15.90559440559456,
          14.4877622377623,
          11.209790209790032,
          8.874125874125529,
          9.16083916083885,
          12.608391608391305,
          18.594405594405234,
          25.316433566432977,
          29.77272727272653,
          27.743006993005864,
          13.76923076923018
         ]
        },
        {
         "line": {
          "dash": "dash"
         },
         "mode": "lines",
         "name": "Polynomial Approximation (1998)",
         "type": "scatter",
         "visible": "legendonly",
         "x": [
          1,
          2,
          3,
          4,
          5,
          6,
          7,
          8,
          9,
          10,
          11,
          12
         ],
         "y": [
          22.65837104072386,
          19.73868778280586,
          23.171945701358567,
          25.265631427397715,
          23.640065816538225,
          19.482928835871896,
          15.803784450845441,
          15.688605512137194,
          20.554298642536565,
          28.403229123820218,
          32.077745783631244,
          17.514705882353233
         ]
        },
        {
         "line": {
          "dash": "dash"
         },
         "mode": "lines",
         "name": "Polynomial Approximation (1999)",
         "type": "scatter",
         "visible": "legendonly",
         "x": [
          1,
          2,
          3,
          4,
          5,
          6,
          7,
          8,
          9,
          10,
          11,
          12
         ],
         "y": [
          16.507918552036234,
          16.69261620732201,
          17.012443438914005,
          17.382250102838398,
          17.805429864253494,
          18.32414644179359,
          18.969559851912848,
          19.712052653229154,
          20.41145619086801,
          20.767276840806367,
          20.26892225421652,
          18.14592760181
         ]
        },
        {
         "line": {
          "dash": "dash"
         },
         "mode": "lines",
         "name": "Polynomial Approximation (2000)",
         "type": "scatter",
         "visible": "legendonly",
         "x": [
          1,
          2,
          3,
          4,
          5,
          6,
          7,
          8,
          9,
          10,
          11,
          12
         ],
         "y": [
          24.262443438913948,
          15.207527766351554,
          11.581242287125171,
          10.469559851913509,
          10.781160016454976,
          12.548334018923235,
          16.22788975730261,
          22.002056766763936,
          29.079391197039786,
          34.99568078980026,
          34.91484985602805,
          20.929864253394733
         ]
        },
        {
         "line": {
          "dash": "dash"
         },
         "mode": "lines",
         "name": "Polynomial Approximation (2001)",
         "type": "scatter",
         "visible": "legendonly",
         "x": [
          1,
          2,
          3,
          4,
          5,
          6,
          7,
          8,
          9,
          10,
          11,
          12
         ],
         "y": [
          20.660633484162606,
          20.857157548333785,
          20.653023447141234,
          19.16155902920653,
          16.925133689840138,
          15.248868778281071,
          15.53434800493677,
          18.613327848622603,
          24.081447963801903,
          29.631941587825466,
          30.38934594817111,
          18.243212669684354
         ]
        },
        {
         "line": {
          "dash": "dash"
         },
         "mode": "lines",
         "name": "Polynomial Approximation (2002)",
         "type": "scatter",
         "visible": "legendonly",
         "x": [
          1,
          2,
          3,
          4,
          5,
          6,
          7,
          8,
          9,
          10,
          11,
          12
         ],
         "y": [
          39.346153846153555,
          31.06118881119005,
          33.19580419580606,
          35.10314685314897,
          33.300699300701666,
          29.104895104897835,
          26.26573426573747,
          28.601398601402607,
          37.6328671328716,
          50.218531468536156,
          56.188811188815144,
          35.98076923077046
         ]
        },
        {
         "line": {
          "dash": "dash"
         },
         "mode": "lines",
         "name": "Polynomial Approximation (2003)",
         "type": "scatter",
         "visible": "legendonly",
         "x": [
          1,
          2,
          3,
          4,
          5,
          6,
          7,
          8,
          9,
          10,
          11,
          12
         ],
         "y": [
          79.83710407239718,
          45.87926779103199,
          37.341423282599834,
          37.12607980255103,
          36.517071164131124,
          33.05512134924061,
          28.413410119294753,
          26.27313862608338,
          30.199095022629365,
          41.5152200740487,
          57.18017276841334,
          67.66289592760478
         ]
        },
        {
         "line": {
          "dash": "dash"
         },
         "mode": "lines",
         "name": "Polynomial Approximation (2004)",
         "type": "scatter",
         "visible": "legendonly",
         "x": [
          1,
          2,
          3,
          4,
          5,
          6,
          7,
          8,
          9,
          10,
          11,
          12
         ],
         "y": [
          86.40837104072162,
          67.67749897161721,
          58.90446318387612,
          48.2498971616628,
          33.50020567667707,
          18.629781982724268,
          10.363225010285618,
          14.737556561088553,
          33.66443850267633,
          61.492389962979615,
          81.56900452488732,
          62.80316742081024
         ]
        },
        {
         "line": {
          "dash": "dash"
         },
         "mode": "lines",
         "name": "Polynomial Approximation (2005)",
         "type": "scatter",
         "visible": "legendonly",
         "x": [
          1,
          2,
          3,
          4,
          5,
          6,
          7,
          8,
          9,
          10,
          11,
          12
         ],
         "y": [
          58.20588235293984,
          71.91011929247219,
          62.91793500617001,
          44.190250925544134,
          25.283833813244367,
          12.518716577538878,
          9.145619086794195,
          15.513368983955996,
          29.236322501027114,
          45.36178527354848,
          56.53743315507879,
          53.17873303167407
         ]
        },
        {
         "line": {
          "dash": "dash"
         },
         "mode": "lines",
         "name": "Polynomial Approximation (2006)",
         "type": "scatter",
         "visible": "legendonly",
         "x": [
          1,
          2,
          3,
          4,
          5,
          6,
          7,
          8,
          9,
          10,
          11,
          12
         ],
         "y": [
          95.8506787330289,
          72.45022624434526,
          70.67544220485625,
          66.52961744138423,
          52.696009872482534,
          33.273138626082584,
          18.510078157141066,
          19.541752365286754,
          43.12422871246952,
          86.37001234060398,
          131.48334018922384,
          140.49547511312
         ]
        },
        {
         "line": {
          "dash": "dash"
         },
         "mode": "lines",
         "name": "Polynomial Approximation (2007)",
         "type": "scatter",
         "visible": "legendonly",
         "x": [
          1,
          2,
          3,
          4,
          5,
          6,
          7,
          8,
          9,
          10,
          11,
          12
         ],
         "y": [
          141.92307692307492,
          110.7972027972055,
          93.98601398601738,
          74.28671328671624,
          48.74825174825463,
          23.67132867133222,
          9.608391608396687,
          16.363636363642797,
          47.99300699301432,
          97.80419580420184,
          143.35664335665018,
          141.46153846153936
         ]
        },
        {
         "line": {
          "dash": "dash"
         },
         "mode": "lines",
         "name": "Polynomial Approximation (2008)",
         "type": "scatter",
         "visible": "legendonly",
         "x": [
          1,
          2,
          3,
          4,
          5,
          6,
          7,
          8,
          9,
          10,
          11,
          12
         ],
         "y": [
          129.7454751131209,
          107.68613739202051,
          84.24238996297899,
          59.75709584533146,
          36.954339777869336,
          19.761826408885668,
          12.13327848622069,
          16.870835047307168,
          34.44744960921608,
          61.829288358701405,
          91.29812834224668,
          109.27375565610919
         ]
        },
        {
         "line": {
          "dash": "dash"
         },
         "mode": "lines",
         "name": "Polynomial Approximation (2009)",
         "type": "scatter",
         "visible": "legendonly",
         "x": [
          1,
          2,
          3,
          4,
          5,
          6,
          7,
          8,
          9,
          10,
          11,
          12
         ],
         "y": [
          185.35180995474948,
          112.56190867955854,
          97.82856849033766,
          95.41114767585873,
          85.6812011517955,
          67.62813656932087,
          51.364870423704474,
          50.633484162909326,
          75.31088029619133,
          123.91443850269138,
          176.10767174004314,
          185.20588235295418
         ]
        },
        {
         "line": {
          "dash": "dash"
         },
         "mode": "lines",
         "name": "Polynomial Approximation (2010)",
         "type": "scatter",
         "visible": "legendonly",
         "x": [
          1,
          2,
          3,
          4,
          5,
          6,
          7,
          8,
          9,
          10,
          11,
          12
         ],
         "y": [
          252.36425339366372,
          248.38307280954365,
          217.54092965857743,
          170.86846976552928,
          120.60222130810425,
          78.79884821061341,
          55.94940353763948,
          59.59358288770136,
          92.93397778691991,
          153.4503290826829,
          231.51378033731078,
          309.00113122172013
         ]
        },
        {
         "line": {
          "dash": "dash"
         },
         "mode": "lines",
         "name": "Polynomial Approximation (2011)",
         "type": "scatter",
         "visible": "legendonly",
         "x": [
          1,
          2,
          3,
          4,
          5,
          6,
          7,
          8,
          9,
          10,
          11,
          12
         ],
         "y": [
          372.4445701357447,
          335.4821061291658,
          264.14016865487486,
          184.3889345948159,
          115.52283011106374,
          70.45125462772347,
          55.98930481283247,
          73.1484985602616,
          117.4274989716136,
          179.10283833812895,
          243.51964212257872,
          291.3823529411754
         ]
        },
        {
         "line": {
          "dash": "dash"
         },
         "mode": "lines",
         "name": "Polynomial Approximation (2012)",
         "type": "scatter",
         "visible": "legendonly",
         "x": [
          1,
          2,
          3,
          4,
          5,
          6,
          7,
          8,
          9,
          10,
          11,
          12
         ],
         "y": [
          515.4615384615377,
          410.3986013986029,
          325.0559440559459,
          251.01398601398762,
          187.23076923077093,
          137.81118881119107,
          109.7762237762272,
          110.83216783217222,
          147.13986013986505,
          221.08391608392031,
          329.0419580419623,
          459.1538461538486
         ]
        },
        {
         "line": {
          "dash": "dash"
         },
         "mode": "lines",
         "name": "Polynomial Approximation (2013)",
         "type": "scatter",
         "visible": "legendonly",
         "x": [
          1,
          2,
          3,
          4,
          5,
          6,
          7,
          8,
          9,
          10,
          11,
          12
         ],
         "y": [
          597.5690045248838,
          587.3510900863835,
          465.4875565610812,
          320.3817359111385,
          201.32743726860298,
          128.50102838337074,
          102.95351707115509,
          116.60263266144506,
          162.22490744548446,
          243.44775812421204,
          384.74156725626284,
          641.4117647058956
         ]
        },
        {
         "line": {
          "dash": "dash"
         },
         "mode": "lines",
         "name": "Polynomial Approximation (2014)",
         "type": "scatter",
         "visible": "legendonly",
         "x": [
          1,
          2,
          3,
          4,
          5,
          6,
          7,
          8,
          9,
          10,
          11,
          12
         ],
         "y": [
          650.8235294117557,
          568.7296380090504,
          522.5004113533585,
          452.283730974916,
          348.2961744138314,
          233.9350061703118,
          148.89016865488873,
          132.2562731386446,
          205.64459070343844,
          356.2950431921274,
          520.188194158804,
          565.1572398190107
         ]
        },
        {
         "line": {
          "dash": "dash"
         },
         "mode": "lines",
         "name": "Polynomial Approximation (2015)",
         "type": "scatter",
         "visible": "legendonly",
         "x": [
          1,
          2,
          3,
          4,
          5,
          6,
          7,
          8,
          9,
          10,
          11,
          12
         ],
         "y": [
          994.6470588235219,
          740.1550802138995,
          604.9588646647488,
          500.7527766351361,
          392.9629781982817,
          284.85602632662403,
          201.64747017689479,
          174.61044837517352,
          225.18428630195922,
          349.0830933772429,
          500.40436034557115,
          575.7375565610994
         ]
        },
        {
         "line": {
          "dash": "dash"
         },
         "mode": "lines",
         "name": "Polynomial Approximation (2016)",
         "type": "scatter",
         "visible": "legendonly",
         "x": [
          1,
          2,
          3,
          4,
          5,
          6,
          7,
          8,
          9,
          10,
          11,
          12
         ],
         "y": [
          761.4683257918501,
          600.2557589469369,
          531.7544220485436,
          486.0636569313085,
          432.92513368984464,
          371.24886877828703,
          318.63924310984055,
          300.92102015632645,
          341.6653640477284,
          451.7158576717495,
          618.7145207733483,
          796.6278280542856
         ]
        },
        {
         "line": {
          "dash": "dash"
         },
         "mode": "lines",
         "name": "Polynomial Approximation (2017)",
         "type": "scatter",
         "visible": "legendonly",
         "x": [
          1,
          2,
          3,
          4,
          5,
          6,
          7,
          8,
          9,
          10,
          11,
          12
         ],
         "y": [
          936.2884615384464,
          1031.3111888111932,
          969.2534965035024,
          801.615384615387,
          594.5664335664342,
          417.11888111888265,
          329.30069930070385,
          370.3286713286798,
          546.7814685314788,
          820.7727272727337,
          1098.1241258741304,
          1216.53846153847
         ]
        },
        {
         "line": {
          "dash": "dash"
         },
         "mode": "lines",
         "name": "Polynomial Approximation (2018)",
         "type": "scatter",
         "visible": "legendonly",
         "x": [
          1,
          2,
          3,
          4,
          5,
          6,
          7,
          8,
          9,
          10,
          11,
          12
         ],
         "y": [
          1461.8359728506773,
          1286.295557383791,
          1117.0239613327897,
          931.0802139037532,
          739.8465651995178,
          576.2106129165047,
          481.7474290415537,
          493.9016865487513,
          633.1697860962652,
          890.2819827231749,
          1213.3845125462913,
          1495.221719457007
         ]
        },
        {
         "line": {
          "dash": "dash"
         },
         "mode": "lines",
         "name": "Polynomial Approximation (2019)",
         "type": "scatter",
         "visible": "legendonly",
         "x": [
          1,
          2,
          3,
          4,
          5,
          6,
          7,
          8,
          9,
          10,
          11,
          12
         ],
         "y": [
          1592.1561085972658,
          1567.677910324962,
          1438.0545043192126,
          1205.860962566852,
          921.7815713698142,
          661.9967091731855,
          505.56972439325773,
          511.83381324558195,
          697.77889757302,
          1015.4385026738021,
          1329.2766351295763,
          1393.5746606334628
         ]
        },
        {
         "line": {
          "dash": "dash"
         },
         "mode": "lines",
         "name": "Polynomial Approximation (2020)",
         "type": "scatter",
         "visible": "legendonly",
         "x": [
          1,
          2,
          3,
          4,
          5,
          6,
          7,
          8,
          9,
          10,
          11,
          12
         ],
         "y": [
          1754.7092760180922,
          1588.419991772943,
          1484.4402509255751,
          1309.7159605101224,
          1060.484162895978,
          815.2900041135892,
          688.003702180228,
          780.8375154258256,
          1137.3627108186824,
          1695.526532291339,
          2240.6691690663306,
          2358.5407239819833
         ]
        },
        {
         "line": {
          "dash": "dash"
         },
         "mode": "lines",
         "name": "Polynomial Approximation (2021)",
         "type": "scatter",
         "visible": "legendonly",
         "x": [
          1,
          2,
          3,
          4,
          5,
          6,
          7,
          8,
          9,
          10,
          11,
          12
         ],
         "y": [
          2361.707013574658,
          2143.4868366927367,
          1964.8892431098614,
          1701.5088440971144,
          1350.408885232449,
          987.6359522830428,
          725.734677087647,
          671.2624434389377,
          882.3040929658823,
          1325.986631016045,
          1835.993932538026,
          2070.0814479637306
         ]
        },
        {
         "line": {
          "dash": "dash"
         },
         "mode": "lines",
         "name": "Polynomial Approximation (2022)",
         "type": "scatter",
         "visible": "legendonly",
         "x": [
          1,
          2,
          3,
          4,
          5,
          6,
          7,
          8,
          9,
          10,
          11,
          12
         ],
         "y": [
          2279.4230769230708,
          2245.487762237765,
          1936.4475524475554,
          1526.4877622377628,
          1144.9650349650321,
          879.9650349650294,
          781.8601398601334,
          866.8671328671192,
          1120.6048951048804,
          1501.6520979020809,
          1945.1048951048765,
          2366.1346153846134
         ]
        }
       ],
       "layout": {
        "legend": {
         "title": {
          "text": "year"
         },
         "tracegroupgap": 0
        },
        "template": {
         "data": {
          "bar": [
           {
            "error_x": {
             "color": "#2a3f5f"
            },
            "error_y": {
             "color": "#2a3f5f"
            },
            "marker": {
             "line": {
              "color": "#E5ECF6",
              "width": 0.5
             },
             "pattern": {
              "fillmode": "overlay",
              "size": 10,
              "solidity": 0.2
             }
            },
            "type": "bar"
           }
          ],
          "barpolar": [
           {
            "marker": {
             "line": {
              "color": "#E5ECF6",
              "width": 0.5
             },
             "pattern": {
              "fillmode": "overlay",
              "size": 10,
              "solidity": 0.2
             }
            },
            "type": "barpolar"
           }
          ],
          "carpet": [
           {
            "aaxis": {
             "endlinecolor": "#2a3f5f",
             "gridcolor": "white",
             "linecolor": "white",
             "minorgridcolor": "white",
             "startlinecolor": "#2a3f5f"
            },
            "baxis": {
             "endlinecolor": "#2a3f5f",
             "gridcolor": "white",
             "linecolor": "white",
             "minorgridcolor": "white",
             "startlinecolor": "#2a3f5f"
            },
            "type": "carpet"
           }
          ],
          "choropleth": [
           {
            "colorbar": {
             "outlinewidth": 0,
             "ticks": ""
            },
            "type": "choropleth"
           }
          ],
          "contour": [
           {
            "colorbar": {
             "outlinewidth": 0,
             "ticks": ""
            },
            "colorscale": [
             [
              0,
              "#0d0887"
             ],
             [
              0.1111111111111111,
              "#46039f"
             ],
             [
              0.2222222222222222,
              "#7201a8"
             ],
             [
              0.3333333333333333,
              "#9c179e"
             ],
             [
              0.4444444444444444,
              "#bd3786"
             ],
             [
              0.5555555555555556,
              "#d8576b"
             ],
             [
              0.6666666666666666,
              "#ed7953"
             ],
             [
              0.7777777777777778,
              "#fb9f3a"
             ],
             [
              0.8888888888888888,
              "#fdca26"
             ],
             [
              1,
              "#f0f921"
             ]
            ],
            "type": "contour"
           }
          ],
          "contourcarpet": [
           {
            "colorbar": {
             "outlinewidth": 0,
             "ticks": ""
            },
            "type": "contourcarpet"
           }
          ],
          "heatmap": [
           {
            "colorbar": {
             "outlinewidth": 0,
             "ticks": ""
            },
            "colorscale": [
             [
              0,
              "#0d0887"
             ],
             [
              0.1111111111111111,
              "#46039f"
             ],
             [
              0.2222222222222222,
              "#7201a8"
             ],
             [
              0.3333333333333333,
              "#9c179e"
             ],
             [
              0.4444444444444444,
              "#bd3786"
             ],
             [
              0.5555555555555556,
              "#d8576b"
             ],
             [
              0.6666666666666666,
              "#ed7953"
             ],
             [
              0.7777777777777778,
              "#fb9f3a"
             ],
             [
              0.8888888888888888,
              "#fdca26"
             ],
             [
              1,
              "#f0f921"
             ]
            ],
            "type": "heatmap"
           }
          ],
          "heatmapgl": [
           {
            "colorbar": {
             "outlinewidth": 0,
             "ticks": ""
            },
            "colorscale": [
             [
              0,
              "#0d0887"
             ],
             [
              0.1111111111111111,
              "#46039f"
             ],
             [
              0.2222222222222222,
              "#7201a8"
             ],
             [
              0.3333333333333333,
              "#9c179e"
             ],
             [
              0.4444444444444444,
              "#bd3786"
             ],
             [
              0.5555555555555556,
              "#d8576b"
             ],
             [
              0.6666666666666666,
              "#ed7953"
             ],
             [
              0.7777777777777778,
              "#fb9f3a"
             ],
             [
              0.8888888888888888,
              "#fdca26"
             ],
             [
              1,
              "#f0f921"
             ]
            ],
            "type": "heatmapgl"
           }
          ],
          "histogram": [
           {
            "marker": {
             "pattern": {
              "fillmode": "overlay",
              "size": 10,
              "solidity": 0.2
             }
            },
            "type": "histogram"
           }
          ],
          "histogram2d": [
           {
            "colorbar": {
             "outlinewidth": 0,
             "ticks": ""
            },
            "colorscale": [
             [
              0,
              "#0d0887"
             ],
             [
              0.1111111111111111,
              "#46039f"
             ],
             [
              0.2222222222222222,
              "#7201a8"
             ],
             [
              0.3333333333333333,
              "#9c179e"
             ],
             [
              0.4444444444444444,
              "#bd3786"
             ],
             [
              0.5555555555555556,
              "#d8576b"
             ],
             [
              0.6666666666666666,
              "#ed7953"
             ],
             [
              0.7777777777777778,
              "#fb9f3a"
             ],
             [
              0.8888888888888888,
              "#fdca26"
             ],
             [
              1,
              "#f0f921"
             ]
            ],
            "type": "histogram2d"
           }
          ],
          "histogram2dcontour": [
           {
            "colorbar": {
             "outlinewidth": 0,
             "ticks": ""
            },
            "colorscale": [
             [
              0,
              "#0d0887"
             ],
             [
              0.1111111111111111,
              "#46039f"
             ],
             [
              0.2222222222222222,
              "#7201a8"
             ],
             [
              0.3333333333333333,
              "#9c179e"
             ],
             [
              0.4444444444444444,
              "#bd3786"
             ],
             [
              0.5555555555555556,
              "#d8576b"
             ],
             [
              0.6666666666666666,
              "#ed7953"
             ],
             [
              0.7777777777777778,
              "#fb9f3a"
             ],
             [
              0.8888888888888888,
              "#fdca26"
             ],
             [
              1,
              "#f0f921"
             ]
            ],
            "type": "histogram2dcontour"
           }
          ],
          "mesh3d": [
           {
            "colorbar": {
             "outlinewidth": 0,
             "ticks": ""
            },
            "type": "mesh3d"
           }
          ],
          "parcoords": [
           {
            "line": {
             "colorbar": {
              "outlinewidth": 0,
              "ticks": ""
             }
            },
            "type": "parcoords"
           }
          ],
          "pie": [
           {
            "automargin": true,
            "type": "pie"
           }
          ],
          "scatter": [
           {
            "fillpattern": {
             "fillmode": "overlay",
             "size": 10,
             "solidity": 0.2
            },
            "type": "scatter"
           }
          ],
          "scatter3d": [
           {
            "line": {
             "colorbar": {
              "outlinewidth": 0,
              "ticks": ""
             }
            },
            "marker": {
             "colorbar": {
              "outlinewidth": 0,
              "ticks": ""
             }
            },
            "type": "scatter3d"
           }
          ],
          "scattercarpet": [
           {
            "marker": {
             "colorbar": {
              "outlinewidth": 0,
              "ticks": ""
             }
            },
            "type": "scattercarpet"
           }
          ],
          "scattergeo": [
           {
            "marker": {
             "colorbar": {
              "outlinewidth": 0,
              "ticks": ""
             }
            },
            "type": "scattergeo"
           }
          ],
          "scattergl": [
           {
            "marker": {
             "colorbar": {
              "outlinewidth": 0,
              "ticks": ""
             }
            },
            "type": "scattergl"
           }
          ],
          "scattermapbox": [
           {
            "marker": {
             "colorbar": {
              "outlinewidth": 0,
              "ticks": ""
             }
            },
            "type": "scattermapbox"
           }
          ],
          "scatterpolar": [
           {
            "marker": {
             "colorbar": {
              "outlinewidth": 0,
              "ticks": ""
             }
            },
            "type": "scatterpolar"
           }
          ],
          "scatterpolargl": [
           {
            "marker": {
             "colorbar": {
              "outlinewidth": 0,
              "ticks": ""
             }
            },
            "type": "scatterpolargl"
           }
          ],
          "scatterternary": [
           {
            "marker": {
             "colorbar": {
              "outlinewidth": 0,
              "ticks": ""
             }
            },
            "type": "scatterternary"
           }
          ],
          "surface": [
           {
            "colorbar": {
             "outlinewidth": 0,
             "ticks": ""
            },
            "colorscale": [
             [
              0,
              "#0d0887"
             ],
             [
              0.1111111111111111,
              "#46039f"
             ],
             [
              0.2222222222222222,
              "#7201a8"
             ],
             [
              0.3333333333333333,
              "#9c179e"
             ],
             [
              0.4444444444444444,
              "#bd3786"
             ],
             [
              0.5555555555555556,
              "#d8576b"
             ],
             [
              0.6666666666666666,
              "#ed7953"
             ],
             [
              0.7777777777777778,
              "#fb9f3a"
             ],
             [
              0.8888888888888888,
              "#fdca26"
             ],
             [
              1,
              "#f0f921"
             ]
            ],
            "type": "surface"
           }
          ],
          "table": [
           {
            "cells": {
             "fill": {
              "color": "#EBF0F8"
             },
             "line": {
              "color": "white"
             }
            },
            "header": {
             "fill": {
              "color": "#C8D4E3"
             },
             "line": {
              "color": "white"
             }
            },
            "type": "table"
           }
          ]
         },
         "layout": {
          "annotationdefaults": {
           "arrowcolor": "#2a3f5f",
           "arrowhead": 0,
           "arrowwidth": 1
          },
          "autotypenumbers": "strict",
          "coloraxis": {
           "colorbar": {
            "outlinewidth": 0,
            "ticks": ""
           }
          },
          "colorscale": {
           "diverging": [
            [
             0,
             "#8e0152"
            ],
            [
             0.1,
             "#c51b7d"
            ],
            [
             0.2,
             "#de77ae"
            ],
            [
             0.3,
             "#f1b6da"
            ],
            [
             0.4,
             "#fde0ef"
            ],
            [
             0.5,
             "#f7f7f7"
            ],
            [
             0.6,
             "#e6f5d0"
            ],
            [
             0.7,
             "#b8e186"
            ],
            [
             0.8,
             "#7fbc41"
            ],
            [
             0.9,
             "#4d9221"
            ],
            [
             1,
             "#276419"
            ]
           ],
           "sequential": [
            [
             0,
             "#0d0887"
            ],
            [
             0.1111111111111111,
             "#46039f"
            ],
            [
             0.2222222222222222,
             "#7201a8"
            ],
            [
             0.3333333333333333,
             "#9c179e"
            ],
            [
             0.4444444444444444,
             "#bd3786"
            ],
            [
             0.5555555555555556,
             "#d8576b"
            ],
            [
             0.6666666666666666,
             "#ed7953"
            ],
            [
             0.7777777777777778,
             "#fb9f3a"
            ],
            [
             0.8888888888888888,
             "#fdca26"
            ],
            [
             1,
             "#f0f921"
            ]
           ],
           "sequentialminus": [
            [
             0,
             "#0d0887"
            ],
            [
             0.1111111111111111,
             "#46039f"
            ],
            [
             0.2222222222222222,
             "#7201a8"
            ],
            [
             0.3333333333333333,
             "#9c179e"
            ],
            [
             0.4444444444444444,
             "#bd3786"
            ],
            [
             0.5555555555555556,
             "#d8576b"
            ],
            [
             0.6666666666666666,
             "#ed7953"
            ],
            [
             0.7777777777777778,
             "#fb9f3a"
            ],
            [
             0.8888888888888888,
             "#fdca26"
            ],
            [
             1,
             "#f0f921"
            ]
           ]
          },
          "colorway": [
           "#636efa",
           "#EF553B",
           "#00cc96",
           "#ab63fa",
           "#FFA15A",
           "#19d3f3",
           "#FF6692",
           "#B6E880",
           "#FF97FF",
           "#FECB52"
          ],
          "font": {
           "color": "#2a3f5f"
          },
          "geo": {
           "bgcolor": "white",
           "lakecolor": "white",
           "landcolor": "#E5ECF6",
           "showlakes": true,
           "showland": true,
           "subunitcolor": "white"
          },
          "hoverlabel": {
           "align": "left"
          },
          "hovermode": "closest",
          "mapbox": {
           "style": "light"
          },
          "paper_bgcolor": "white",
          "plot_bgcolor": "#E5ECF6",
          "polar": {
           "angularaxis": {
            "gridcolor": "white",
            "linecolor": "white",
            "ticks": ""
           },
           "bgcolor": "#E5ECF6",
           "radialaxis": {
            "gridcolor": "white",
            "linecolor": "white",
            "ticks": ""
           }
          },
          "scene": {
           "xaxis": {
            "backgroundcolor": "#E5ECF6",
            "gridcolor": "white",
            "gridwidth": 2,
            "linecolor": "white",
            "showbackground": true,
            "ticks": "",
            "zerolinecolor": "white"
           },
           "yaxis": {
            "backgroundcolor": "#E5ECF6",
            "gridcolor": "white",
            "gridwidth": 2,
            "linecolor": "white",
            "showbackground": true,
            "ticks": "",
            "zerolinecolor": "white"
           },
           "zaxis": {
            "backgroundcolor": "#E5ECF6",
            "gridcolor": "white",
            "gridwidth": 2,
            "linecolor": "white",
            "showbackground": true,
            "ticks": "",
            "zerolinecolor": "white"
           }
          },
          "shapedefaults": {
           "line": {
            "color": "#2a3f5f"
           }
          },
          "ternary": {
           "aaxis": {
            "gridcolor": "white",
            "linecolor": "white",
            "ticks": ""
           },
           "baxis": {
            "gridcolor": "white",
            "linecolor": "white",
            "ticks": ""
           },
           "bgcolor": "#E5ECF6",
           "caxis": {
            "gridcolor": "white",
            "linecolor": "white",
            "ticks": ""
           }
          },
          "title": {
           "x": 0.05
          },
          "xaxis": {
           "automargin": true,
           "gridcolor": "white",
           "linecolor": "white",
           "ticks": "",
           "title": {
            "standoff": 15
           },
           "zerolinecolor": "white",
           "zerolinewidth": 2
          },
          "yaxis": {
           "automargin": true,
           "gridcolor": "white",
           "linecolor": "white",
           "ticks": "",
           "title": {
            "standoff": 15
           },
           "zerolinecolor": "white",
           "zerolinewidth": 2
          }
         }
        },
        "title": {
         "text": "Observation Count for American Crow by Month"
        },
        "xaxis": {
         "anchor": "y",
         "domain": [
          0,
          1
         ],
         "title": {
          "text": "month"
         }
        },
        "yaxis": {
         "anchor": "x",
         "domain": [
          0,
          1
         ],
         "title": {
          "text": "observations"
         }
        }
       }
      }
     },
     "metadata": {},
     "output_type": "display_data"
    }
   ],
   "source": [
    "plot_obervations_with_polynomial_fit(ebird_data, 'American Crow', 'month', 5)\n"
   ]
  }
 ],
 "metadata": {
  "kernelspec": {
   "display_name": "base",
   "language": "python",
   "name": "python3"
  },
  "language_info": {
   "codemirror_mode": {
    "name": "ipython",
    "version": 3
   },
   "file_extension": ".py",
   "mimetype": "text/x-python",
   "name": "python",
   "nbconvert_exporter": "python",
   "pygments_lexer": "ipython3",
   "version": "3.11.4"
  }
 },
 "nbformat": 4,
 "nbformat_minor": 2
}
