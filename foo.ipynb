{
 "cells": [
  {
   "cell_type": "markdown",
   "metadata": {},
   "source": [
    "# title placeholder"
   ]
  },
  {
   "cell_type": "code",
   "execution_count": 75,
   "metadata": {},
   "outputs": [],
   "source": [
    "import pandas as pd\n",
    "import numpy as np\n",
    "import matplotlib.pyplot as plt\n",
    "import plotly.express as px\n",
    "import plotly.graph_objects as go\n"
   ]
  },
  {
   "cell_type": "markdown",
   "metadata": {},
   "source": [
    "## Data Loading"
   ]
  },
  {
   "cell_type": "code",
   "execution_count": 2,
   "metadata": {},
   "outputs": [],
   "source": [
    "ebird_data = pd.read_csv('ebird_nm_2022.csv')\n"
   ]
  },
  {
   "cell_type": "code",
   "execution_count": 3,
   "metadata": {},
   "outputs": [
    {
     "data": {
      "text/html": [
       "<div>\n",
       "<style scoped>\n",
       "    .dataframe tbody tr th:only-of-type {\n",
       "        vertical-align: middle;\n",
       "    }\n",
       "\n",
       "    .dataframe tbody tr th {\n",
       "        vertical-align: top;\n",
       "    }\n",
       "\n",
       "    .dataframe thead th {\n",
       "        text-align: right;\n",
       "    }\n",
       "</style>\n",
       "<table border=\"1\" class=\"dataframe\">\n",
       "  <thead>\n",
       "    <tr style=\"text-align: right;\">\n",
       "      <th></th>\n",
       "      <th>Unnamed: 0</th>\n",
       "      <th>COMMON_NAME</th>\n",
       "      <th>LATITUDE</th>\n",
       "      <th>LONGITUDE</th>\n",
       "      <th>OBSERVATION_DATE</th>\n",
       "    </tr>\n",
       "  </thead>\n",
       "  <tbody>\n",
       "    <tr>\n",
       "      <th>0</th>\n",
       "      <td>0</td>\n",
       "      <td>Mallard/Mexican Duck</td>\n",
       "      <td>35.158855</td>\n",
       "      <td>-106.633675</td>\n",
       "      <td>2015-04-11</td>\n",
       "    </tr>\n",
       "    <tr>\n",
       "      <th>1</th>\n",
       "      <td>1</td>\n",
       "      <td>Common Merganser</td>\n",
       "      <td>33.802000</td>\n",
       "      <td>-106.880000</td>\n",
       "      <td>2005-12-27</td>\n",
       "    </tr>\n",
       "    <tr>\n",
       "      <th>2</th>\n",
       "      <td>2</td>\n",
       "      <td>Long-billed Dowitcher</td>\n",
       "      <td>33.802000</td>\n",
       "      <td>-106.880000</td>\n",
       "      <td>2005-02-03</td>\n",
       "    </tr>\n",
       "    <tr>\n",
       "      <th>3</th>\n",
       "      <td>3</td>\n",
       "      <td>American Avocet</td>\n",
       "      <td>33.802000</td>\n",
       "      <td>-106.880000</td>\n",
       "      <td>2007-04-14</td>\n",
       "    </tr>\n",
       "    <tr>\n",
       "      <th>4</th>\n",
       "      <td>4</td>\n",
       "      <td>Great Egret</td>\n",
       "      <td>33.802000</td>\n",
       "      <td>-106.880000</td>\n",
       "      <td>2003-05-22</td>\n",
       "    </tr>\n",
       "  </tbody>\n",
       "</table>\n",
       "</div>"
      ],
      "text/plain": [
       "   Unnamed: 0            COMMON_NAME   LATITUDE   LONGITUDE OBSERVATION_DATE\n",
       "0           0   Mallard/Mexican Duck  35.158855 -106.633675       2015-04-11\n",
       "1           1       Common Merganser  33.802000 -106.880000       2005-12-27\n",
       "2           2  Long-billed Dowitcher  33.802000 -106.880000       2005-02-03\n",
       "3           3        American Avocet  33.802000 -106.880000       2007-04-14\n",
       "4           4            Great Egret  33.802000 -106.880000       2003-05-22"
      ]
     },
     "execution_count": 3,
     "metadata": {},
     "output_type": "execute_result"
    }
   ],
   "source": [
    "ebird_data.head()\n"
   ]
  },
  {
   "cell_type": "code",
   "execution_count": 4,
   "metadata": {},
   "outputs": [
    {
     "data": {
      "text/plain": [
       "(9009593, 5)"
      ]
     },
     "execution_count": 4,
     "metadata": {},
     "output_type": "execute_result"
    }
   ],
   "source": [
    "ebird_data.shape\n"
   ]
  },
  {
   "cell_type": "markdown",
   "metadata": {},
   "source": [
    "## Quick Data Cleaning"
   ]
  },
  {
   "cell_type": "code",
   "execution_count": 5,
   "metadata": {},
   "outputs": [
    {
     "name": "stdout",
     "output_type": "stream",
     "text": [
      "<class 'pandas.core.frame.DataFrame'>\n",
      "RangeIndex: 9009593 entries, 0 to 9009592\n",
      "Data columns (total 5 columns):\n",
      " #   Column            Dtype  \n",
      "---  ------            -----  \n",
      " 0   Unnamed: 0        int64  \n",
      " 1   COMMON_NAME       object \n",
      " 2   LATITUDE          float64\n",
      " 3   LONGITUDE         float64\n",
      " 4   OBSERVATION_DATE  object \n",
      "dtypes: float64(2), int64(1), object(2)\n",
      "memory usage: 343.7+ MB\n"
     ]
    }
   ],
   "source": [
    "ebird_data.info()\n"
   ]
  },
  {
   "cell_type": "code",
   "execution_count": 6,
   "metadata": {},
   "outputs": [],
   "source": [
    "ebird_data.columns = ebird_data.columns.str.lower()\n"
   ]
  },
  {
   "cell_type": "code",
   "execution_count": 7,
   "metadata": {},
   "outputs": [
    {
     "data": {
      "text/plain": [
       "Index(['unnamed: 0', 'common_name', 'latitude', 'longitude',\n",
       "       'observation_date'],\n",
       "      dtype='object')"
      ]
     },
     "execution_count": 7,
     "metadata": {},
     "output_type": "execute_result"
    }
   ],
   "source": [
    "ebird_data.columns\n"
   ]
  },
  {
   "cell_type": "code",
   "execution_count": 8,
   "metadata": {},
   "outputs": [],
   "source": [
    "#drop first column\n",
    "ebird_data = ebird_data.drop(columns=['unnamed: 0'])\n"
   ]
  },
  {
   "cell_type": "code",
   "execution_count": 9,
   "metadata": {},
   "outputs": [],
   "source": [
    "ebird_data['observation_date'] = pd.to_datetime(ebird_data['observation_date'])\n"
   ]
  },
  {
   "cell_type": "code",
   "execution_count": 10,
   "metadata": {},
   "outputs": [],
   "source": [
    "ebird_data['year'] = ebird_data['observation_date'].dt.year\n",
    "ebird_data['month'] = ebird_data['observation_date'].dt.month\n",
    "ebird_data['day'] = ebird_data['observation_date'].dt.day\n",
    "ebird_data['week of year'] = ebird_data['observation_date'].dt.isocalendar().week\n",
    "\n"
   ]
  },
  {
   "cell_type": "code",
   "execution_count": 11,
   "metadata": {},
   "outputs": [
    {
     "data": {
      "text/html": [
       "<div>\n",
       "<style scoped>\n",
       "    .dataframe tbody tr th:only-of-type {\n",
       "        vertical-align: middle;\n",
       "    }\n",
       "\n",
       "    .dataframe tbody tr th {\n",
       "        vertical-align: top;\n",
       "    }\n",
       "\n",
       "    .dataframe thead th {\n",
       "        text-align: right;\n",
       "    }\n",
       "</style>\n",
       "<table border=\"1\" class=\"dataframe\">\n",
       "  <thead>\n",
       "    <tr style=\"text-align: right;\">\n",
       "      <th></th>\n",
       "      <th>common_name</th>\n",
       "      <th>latitude</th>\n",
       "      <th>longitude</th>\n",
       "      <th>observation_date</th>\n",
       "      <th>year</th>\n",
       "      <th>month</th>\n",
       "      <th>day</th>\n",
       "      <th>week of year</th>\n",
       "    </tr>\n",
       "  </thead>\n",
       "  <tbody>\n",
       "    <tr>\n",
       "      <th>0</th>\n",
       "      <td>Mallard/Mexican Duck</td>\n",
       "      <td>35.158855</td>\n",
       "      <td>-106.633675</td>\n",
       "      <td>2015-04-11</td>\n",
       "      <td>2015</td>\n",
       "      <td>4</td>\n",
       "      <td>11</td>\n",
       "      <td>15</td>\n",
       "    </tr>\n",
       "    <tr>\n",
       "      <th>1</th>\n",
       "      <td>Common Merganser</td>\n",
       "      <td>33.802000</td>\n",
       "      <td>-106.880000</td>\n",
       "      <td>2005-12-27</td>\n",
       "      <td>2005</td>\n",
       "      <td>12</td>\n",
       "      <td>27</td>\n",
       "      <td>52</td>\n",
       "    </tr>\n",
       "    <tr>\n",
       "      <th>2</th>\n",
       "      <td>Long-billed Dowitcher</td>\n",
       "      <td>33.802000</td>\n",
       "      <td>-106.880000</td>\n",
       "      <td>2005-02-03</td>\n",
       "      <td>2005</td>\n",
       "      <td>2</td>\n",
       "      <td>3</td>\n",
       "      <td>5</td>\n",
       "    </tr>\n",
       "    <tr>\n",
       "      <th>3</th>\n",
       "      <td>American Avocet</td>\n",
       "      <td>33.802000</td>\n",
       "      <td>-106.880000</td>\n",
       "      <td>2007-04-14</td>\n",
       "      <td>2007</td>\n",
       "      <td>4</td>\n",
       "      <td>14</td>\n",
       "      <td>15</td>\n",
       "    </tr>\n",
       "    <tr>\n",
       "      <th>4</th>\n",
       "      <td>Great Egret</td>\n",
       "      <td>33.802000</td>\n",
       "      <td>-106.880000</td>\n",
       "      <td>2003-05-22</td>\n",
       "      <td>2003</td>\n",
       "      <td>5</td>\n",
       "      <td>22</td>\n",
       "      <td>21</td>\n",
       "    </tr>\n",
       "  </tbody>\n",
       "</table>\n",
       "</div>"
      ],
      "text/plain": [
       "             common_name   latitude   longitude observation_date  year  month  \\\n",
       "0   Mallard/Mexican Duck  35.158855 -106.633675       2015-04-11  2015      4   \n",
       "1       Common Merganser  33.802000 -106.880000       2005-12-27  2005     12   \n",
       "2  Long-billed Dowitcher  33.802000 -106.880000       2005-02-03  2005      2   \n",
       "3        American Avocet  33.802000 -106.880000       2007-04-14  2007      4   \n",
       "4            Great Egret  33.802000 -106.880000       2003-05-22  2003      5   \n",
       "\n",
       "   day  week of year  \n",
       "0   11            15  \n",
       "1   27            52  \n",
       "2    3             5  \n",
       "3   14            15  \n",
       "4   22            21  "
      ]
     },
     "execution_count": 11,
     "metadata": {},
     "output_type": "execute_result"
    }
   ],
   "source": [
    "ebird_data.head() \n"
   ]
  },
  {
   "cell_type": "code",
   "execution_count": 12,
   "metadata": {},
   "outputs": [],
   "source": [
    "ebird_data_copy = ebird_data.copy()\n"
   ]
  },
  {
   "cell_type": "markdown",
   "metadata": {},
   "source": [
    "## Functions"
   ]
  },
  {
   "cell_type": "markdown",
   "metadata": {},
   "source": [
    "### Species Observations Over Time"
   ]
  },
  {
   "cell_type": "code",
   "execution_count": 64,
   "metadata": {},
   "outputs": [],
   "source": [
    "def species_observations_over_time(data: pd.DataFrame, species: str, time_units: str) -> pd.DataFrame:\n",
    "    \"\"\"\n",
    "    This function takes a dataframe and returns a dataframe with the number of observations of a species over a given unit of time.\n",
    "    i.e. obersvations of the American Crow per month, week, or day.\n",
    "\n",
    "    Args:\n",
    "        data (pd.DataFrame): eBird dataframe\n",
    "        species (str): Bird Species of interest\n",
    "        time_units (str): Unit of time to aggregate observations. Options: 'Month', 'Week', 'Day'\n",
    "\n",
    "    Raises:\n",
    "        ValueError: If time unit is not supported\n",
    "        ValueError: If species is not found in data\n",
    "\n",
    "    Returns:\n",
    "        pd.DataFrame: DataFrame with the number of observations of a species over a given unit of time.\n",
    "    \"\"\"\n",
    "    \n",
    "    time_dict = {\n",
    "        'month': 'month',\n",
    "        'week': 'week of year',\n",
    "        'day': 'day',\n",
    "    }\n",
    "    \n",
    "    if time_units not in time_dict:\n",
    "        raise ValueError(f\"Time unit {time_units} not supported\")\n",
    "    \n",
    "    species_data = data[data['common_name'] == species]\n",
    "    \n",
    "    if species_data.empty:\n",
    "        raise ValueError(f\"Species {species} not found in data\")\n",
    "    \n",
    "    species_observations = species_data.groupby(['year', time_dict[time_units]]).size().reset_index(name='observations')\n",
    "    \n",
    "    return species_observations\n"
   ]
  },
  {
   "cell_type": "markdown",
   "metadata": {},
   "source": [
    "Example Usage"
   ]
  },
  {
   "cell_type": "code",
   "execution_count": 37,
   "metadata": {},
   "outputs": [
    {
     "data": {
      "text/html": [
       "<div>\n",
       "<style scoped>\n",
       "    .dataframe tbody tr th:only-of-type {\n",
       "        vertical-align: middle;\n",
       "    }\n",
       "\n",
       "    .dataframe tbody tr th {\n",
       "        vertical-align: top;\n",
       "    }\n",
       "\n",
       "    .dataframe thead th {\n",
       "        text-align: right;\n",
       "    }\n",
       "</style>\n",
       "<table border=\"1\" class=\"dataframe\">\n",
       "  <thead>\n",
       "    <tr style=\"text-align: right;\">\n",
       "      <th></th>\n",
       "      <th>year</th>\n",
       "      <th>month</th>\n",
       "      <th>observations</th>\n",
       "    </tr>\n",
       "  </thead>\n",
       "  <tbody>\n",
       "    <tr>\n",
       "      <th>0</th>\n",
       "      <td>1990</td>\n",
       "      <td>1</td>\n",
       "      <td>21</td>\n",
       "    </tr>\n",
       "    <tr>\n",
       "      <th>1</th>\n",
       "      <td>1990</td>\n",
       "      <td>2</td>\n",
       "      <td>21</td>\n",
       "    </tr>\n",
       "    <tr>\n",
       "      <th>2</th>\n",
       "      <td>1990</td>\n",
       "      <td>3</td>\n",
       "      <td>13</td>\n",
       "    </tr>\n",
       "    <tr>\n",
       "      <th>3</th>\n",
       "      <td>1990</td>\n",
       "      <td>4</td>\n",
       "      <td>4</td>\n",
       "    </tr>\n",
       "    <tr>\n",
       "      <th>4</th>\n",
       "      <td>1990</td>\n",
       "      <td>5</td>\n",
       "      <td>5</td>\n",
       "    </tr>\n",
       "    <tr>\n",
       "      <th>5</th>\n",
       "      <td>1990</td>\n",
       "      <td>6</td>\n",
       "      <td>1</td>\n",
       "    </tr>\n",
       "    <tr>\n",
       "      <th>6</th>\n",
       "      <td>1990</td>\n",
       "      <td>7</td>\n",
       "      <td>1</td>\n",
       "    </tr>\n",
       "    <tr>\n",
       "      <th>7</th>\n",
       "      <td>1990</td>\n",
       "      <td>8</td>\n",
       "      <td>15</td>\n",
       "    </tr>\n",
       "    <tr>\n",
       "      <th>8</th>\n",
       "      <td>1990</td>\n",
       "      <td>9</td>\n",
       "      <td>14</td>\n",
       "    </tr>\n",
       "    <tr>\n",
       "      <th>9</th>\n",
       "      <td>1990</td>\n",
       "      <td>10</td>\n",
       "      <td>15</td>\n",
       "    </tr>\n",
       "    <tr>\n",
       "      <th>10</th>\n",
       "      <td>1990</td>\n",
       "      <td>11</td>\n",
       "      <td>23</td>\n",
       "    </tr>\n",
       "    <tr>\n",
       "      <th>11</th>\n",
       "      <td>1990</td>\n",
       "      <td>12</td>\n",
       "      <td>12</td>\n",
       "    </tr>\n",
       "  </tbody>\n",
       "</table>\n",
       "</div>"
      ],
      "text/plain": [
       "    year  month  observations\n",
       "0   1990      1            21\n",
       "1   1990      2            21\n",
       "2   1990      3            13\n",
       "3   1990      4             4\n",
       "4   1990      5             5\n",
       "5   1990      6             1\n",
       "6   1990      7             1\n",
       "7   1990      8            15\n",
       "8   1990      9            14\n",
       "9   1990     10            15\n",
       "10  1990     11            23\n",
       "11  1990     12            12"
      ]
     },
     "execution_count": 37,
     "metadata": {},
     "output_type": "execute_result"
    }
   ],
   "source": [
    "american_crow_monthly = species_observations_over_time(ebird_data, 'American Crow', 'Month')\n",
    "american_crow_monthly.head(12)\n"
   ]
  },
  {
   "cell_type": "code",
   "execution_count": 44,
   "metadata": {},
   "outputs": [
    {
     "data": {
      "text/plain": [
       "array([1990, 1991, 1992, 1993, 1994, 1995, 1996, 1997, 1998, 1999, 2000,\n",
       "       2001, 2002, 2003, 2004, 2005, 2006, 2007, 2008, 2009, 2010, 2011,\n",
       "       2012, 2013, 2014, 2015, 2016, 2017, 2018, 2019, 2020, 2021, 2022],\n",
       "      dtype=int64)"
      ]
     },
     "execution_count": 44,
     "metadata": {},
     "output_type": "execute_result"
    }
   ],
   "source": [
    "american_crow_monthly['year'].unique()\n"
   ]
  },
  {
   "cell_type": "markdown",
   "metadata": {},
   "source": [
    "## Polynomial Fit"
   ]
  },
  {
   "cell_type": "code",
   "execution_count": 109,
   "metadata": {},
   "outputs": [],
   "source": [
    "def calculate_fitted_polynomials(data: pd.DataFrame, time_units: str, degree: int) -> np.ndarray:\n",
    "    \"\"\"\n",
    "    This function takes a dataframe and returns an array of the coefficients of the polynomial that best fits the number of observations of a species over a given unit of time.\n",
    "\n",
    "    Args:\n",
    "        data (pd.DataFrame): Aggregate dataframe of species observations over time\n",
    "        species (str): Species of interest\n",
    "        time_units (str): Unit of time to aggregate observations. Options: 'Month', 'Week', 'Day'\n",
    "        degree (int): Degree of the polynomial to fit the data\n",
    "\n",
    "    Returns:\n",
    "        np.ndarray: Array of the coefficients of the polynomial that best fits the number of observations of a species over a given unit of time.\n",
    "    \"\"\"\n",
    "    #create an empty numpy array to store the polynomials\n",
    "    \n",
    "    polynomial_array = np.array([])\n",
    "    \n",
    "    for year in data['year'].unique():\n",
    "        species_year = data[data['year'] == year]\n",
    "        x = species_year[time_units]\n",
    "        y = species_year['observations']\n",
    "        poly = np.polyfit(x, y, degree)\n",
    "        polynomial_array = np.append(polynomial_array, poly)\n",
    "             \n",
    "    return polynomial_array\n",
    "    \n",
    "    \n",
    "\n"
   ]
  },
  {
   "cell_type": "code",
   "execution_count": 110,
   "metadata": {},
   "outputs": [
    {
     "data": {
      "text/plain": [
       "array([ 2.61123680e-03, -1.19866653e-01,  1.81225576e+00, -1.05801025e+01,\n",
       "        1.91320170e+01,  1.11818182e+01, -5.77865762e-03,  1.55063074e-01,\n",
       "       -1.30977050e+00,  3.17129439e+00,  3.92512341e+00, -3.09090909e+00,\n",
       "        7.71116139e-03, -2.70280577e-01,  3.46525778e+00, -1.94917001e+01,\n",
       "        4.46251903e+01, -2.00454545e+01, -2.53582202e-03,  4.27507541e-02,\n",
       "       -5.07292952e-02, -1.41955043e+00,  2.22541650e+00,  1.82272727e+01,\n",
       "       -2.14932127e-03,  3.53978130e-02, -6.83789250e-02, -1.09005639e+00,\n",
       "        6.51237317e+00,  8.68181818e+00,  3.20512821e-04, -6.46853147e-02,\n",
       "        1.28685897e+00, -8.48951049e+00,  2.27110723e+01, -1.63636364e+00,\n",
       "       -1.17552790e-02,  3.32257816e-01, -3.31280423e+00,  1.41853275e+01,\n",
       "       -2.48186943e+01,  2.97727273e+01, -1.60256410e-04, -4.35606061e-02,\n",
       "        1.09695513e+00, -8.36115967e+00,  2.24110723e+01, -3.54545455e+00,\n",
       "       -1.45456259e-02,  4.39552482e-01, -4.73214469e+00,  2.18896330e+01,\n",
       "       -4.16059423e+01,  4.66818182e+01, -4.14781297e-04,  9.91104484e-03,\n",
       "       -8.63413547e-02,  3.75167112e-01, -4.72221651e-01,  1.66818182e+01,\n",
       "       -5.82579186e-03,  1.63332991e-01, -1.74032463e+00,  9.59725936e+00,\n",
       "       -2.79338167e+01,  4.41818182e+01, -5.55241327e-03,  1.42829597e-01,\n",
       "       -1.21516780e+00,  4.01965498e+00, -5.32658542e+00,  2.30454545e+01,\n",
       "       -1.97115385e-02,  5.94187063e-01, -6.43509615e+00,  3.07397290e+01,\n",
       "       -6.37602273e+01,  7.82272727e+01, -1.77036199e-02,  6.14776155e-01,\n",
       "       -7.84660805e+00,  4.60135661e+01, -1.25745108e+02,  1.66818182e+02,\n",
       "       -2.86481900e-02,  8.30796654e-01, -8.41906194e+00,  3.73017105e+01,\n",
       "       -8.32764260e+01,  1.40000000e+02,  1.39517345e-03, -1.62767380e-01,\n",
       "        3.69714109e+00, -2.95874383e+01,  7.89848245e+01,  5.27272727e+00,\n",
       "       -4.38725490e-02,  1.35308686e+00, -1.46786045e+01,  6.90058189e+01,\n",
       "       -1.46603932e+02,  1.86818182e+02, -4.16666667e-02,  1.21882284e+00,\n",
       "       -1.23470280e+01,  5.45189394e+01, -1.25244172e+02,  2.23818182e+02,\n",
       "       -9.81334842e-03,  2.46417798e-01, -1.76916650e+00,  4.64555053e+00,\n",
       "       -2.70038770e+01,  1.53636364e+02, -6.24528658e-02,  2.02480118e+00,\n",
       "       -2.38120158e+01,  1.26901104e+02, -3.15245081e+02,  3.95545455e+02,\n",
       "       -1.15478884e-02,  2.23463424e-01,  3.54419478e-01, -2.01042738e+01,\n",
       "        5.08567376e+01,  2.21045455e+02,  2.42269985e-03, -3.14496778e-01,\n",
       "        7.31585510e+00, -5.34404909e+01,  7.67903709e+01,  3.42090909e+02,\n",
       "       -1.85897436e-02,  5.86247086e-01, -6.05740093e+00,  3.32214452e+01,\n",
       "       -1.70542890e+02,  6.58272727e+02,  8.32673454e-02, -2.87857363e+00,\n",
       "        3.81072475e+01, -2.19996015e+02,  4.23616715e+02,  3.58636364e+02,\n",
       "       -1.40733409e-01,  4.19719680e+00, -4.27996495e+01,  1.82466316e+02,\n",
       "       -3.88490510e+02,  8.95590909e+02, -1.32428356e-01,  4.22525024e+00,\n",
       "       -4.83622652e+01,  2.56108769e+02, -7.43555903e+02,  1.52636364e+03,\n",
       "       -8.72831825e-02,  2.96101142e+00, -3.55868170e+01,  1.93706718e+02,\n",
       "       -5.34934394e+02,  1.13540909e+03, -9.85576923e-02,  2.08959790e+00,\n",
       "       -5.90639569e+00, -8.64715909e+01,  3.67493590e+02,  6.59181818e+02,\n",
       "       -1.06815611e-01,  3.03236837e+00, -2.72041641e+01,  1.00163590e+02,\n",
       "       -3.27776279e+02,  1.71372727e+03, -1.88442685e-01,  4.83119087e+00,\n",
       "       -3.56339555e+01,  5.74111991e+01, -1.39002468e+01,  1.57963636e+03,\n",
       "       -3.91525264e-01,  1.12600096e+01, -1.09326636e+02,  4.40851621e+02,\n",
       "       -8.80320557e+02,  2.29263636e+03, -3.54044118e-01,  1.03718549e+01,\n",
       "       -1.01439912e+02,  4.01018365e+02, -8.55798341e+02,  2.90790909e+03,\n",
       "        2.96474359e-02, -2.31257284e+00,  5.02295309e+01, -3.83783581e+02,\n",
       "        7.99578234e+02,  1.81568182e+03])"
      ]
     },
     "execution_count": 110,
     "metadata": {},
     "output_type": "execute_result"
    }
   ],
   "source": [
    "american_crow_polynomials = calculate_fitted_polynomials(american_crow_monthly, 'month', 5)\n",
    "american_crow_polynomials\n"
   ]
  },
  {
   "cell_type": "markdown",
   "metadata": {},
   "source": [
    "## Calculate Inflection Points"
   ]
  },
  {
   "cell_type": "code",
   "execution_count": 67,
   "metadata": {},
   "outputs": [],
   "source": [
    "def calculate_inflection_points(polynomial: np.array) -> np.ndarray:\n",
    "    \"\"\"\n",
    "    This function takes an array of polynomial coefficients and returns an array of the inflection points of the polynomial.\n",
    "\n",
    "    Args:\n",
    "        polynomial (np.array): Array of polynomial coefficients\n",
    "\n",
    "    Returns:\n",
    "        np.ndarray: Array of the inflection points of the polynomial.\n",
    "    \"\"\"\n",
    "    p = np.poly1d(polynomial)\n",
    "    \n",
    "    #calcualte secod derivative of polynomial\n",
    "    second_derivative = np.polyder(p, 2)\n",
    "    \n",
    "    #calculate inflection points\n",
    "    inflection_points = np.roots(second_derivative)\n",
    "    \n",
    "    return inflection_points\n",
    "    \n"
   ]
  },
  {
   "cell_type": "code",
   "execution_count": 107,
   "metadata": {},
   "outputs": [],
   "source": [
    "def plot_obervations_with_polynomial_fit(data: pd.DataFrame, species: str, time_units: str, degree: int) -> None:\n",
    "    \"\"\"\n",
    "    This function takes a dataframe and plots the number of observations of a species over a given unit of time with the polynomial that best fits the data.\n",
    "\n",
    "    Args:\n",
    "        data (pd.DataFrame): eBird dataframe\n",
    "        species (str): Bird Species of interest\n",
    "        time_units (str): Unit of time to aggregate observations. Options: 'Month', 'Week', 'Day'\n",
    "        degree (int): Degree of the polynomial to fit the data\n",
    "\n",
    "    Returns:\n",
    "        None\n",
    "    \"\"\"\n",
    "    species_observations = species_observations_over_time(data, species, time_units)\n",
    "    polynomial_coefficients = calculate_fitted_polynomials(species_observations, time_units, degree)\n",
    "    inflection_points = calculate_inflection_points(polynomial_coefficients)\n",
    "    \n",
    "    # plot observations\n",
    "    fig = px.line(species_observations,\n",
    "                  x=time_units,\n",
    "                  y='observations',\n",
    "                  color='year',\n",
    "                  markers=False,\n",
    "                  title=f'Observation Count for {species} by {time_units.title()}')\n",
    "    \n",
    "    # plot polynomial fit for each year\n",
    "    polynomials = []\n",
    "    for year in species_observations['year'].unique():\n",
    "        year_data = species_observations[species_observations['year'] == year]\n",
    "        coefficients = np.polyfit(year_data[time_units], year_data['observations'], degree)\n",
    "        polynomial = np.poly1d(coefficients)\n",
    "        polynomials.append(polynomial)\n",
    "    \n",
    "    fig.add_scatter(x=year_data[time_units],\n",
    "                        y=polynomial(year_data[time_units]),\n",
    "                        mode='lines', line=dict(dash='dash'),\n",
    "                        visible='legendonly',\n",
    "                        name=f'Polynomial Approximation ({year})'\n",
    "                        )\n",
    "    # plot inflection points\n",
    "    fig.add_scatter(x=inflection_points, y=(inflection_points), mode='markers', name='Inflection Points')\n",
    "    \n",
    "    fig.show()\n",
    "    \n",
    "   \n"
   ]
  },
  {
   "cell_type": "code",
   "execution_count": 108,
   "metadata": {},
   "outputs": [
    {
     "data": {
      "application/vnd.plotly.v1+json": {
       "config": {
        "plotlyServerURL": "https://plot.ly"
       },
       "data": [
        {
         "hovertemplate": "year=1990<br>month=%{x}<br>observations=%{y}<extra></extra>",
         "legendgroup": "1990",
         "line": {
          "color": "#636efa",
          "dash": "solid"
         },
         "marker": {
          "symbol": "circle"
         },
         "mode": "lines",
         "name": "1990",
         "orientation": "v",
         "showlegend": true,
         "type": "scatter",
         "x": [
          1,
          2,
          3,
          4,
          5,
          6,
          7,
          8,
          9,
          10,
          11,
          12
         ],
         "xaxis": "x",
         "y": [
          21,
          21,
          13,
          4,
          5,
          1,
          1,
          15,
          14,
          15,
          23,
          12
         ],
         "yaxis": "y"
        },
        {
         "hovertemplate": "year=1991<br>month=%{x}<br>observations=%{y}<extra></extra>",
         "legendgroup": "1991",
         "line": {
          "color": "#EF553B",
          "dash": "solid"
         },
         "marker": {
          "symbol": "circle"
         },
         "mode": "lines",
         "name": "1991",
         "orientation": "v",
         "showlegend": true,
         "type": "scatter",
         "x": [
          1,
          2,
          3,
          4,
          5,
          6,
          7,
          8,
          9,
          10,
          11,
          12
         ],
         "xaxis": "x",
         "y": [
          3,
          9,
          13,
          12,
          15,
          6,
          1,
          12,
          9,
          16,
          20,
          15
         ],
         "yaxis": "y"
        },
        {
         "hovertemplate": "year=1992<br>month=%{x}<br>observations=%{y}<extra></extra>",
         "legendgroup": "1992",
         "line": {
          "color": "#00cc96",
          "dash": "solid"
         },
         "marker": {
          "symbol": "circle"
         },
         "mode": "lines",
         "name": "1992",
         "orientation": "v",
         "showlegend": true,
         "type": "scatter",
         "x": [
          1,
          2,
          3,
          4,
          5,
          6,
          7,
          8,
          9,
          10,
          11,
          12
         ],
         "xaxis": "x",
         "y": [
          9,
          13,
          12,
          10,
          3,
          5,
          1,
          13,
          14,
          7,
          10,
          11
         ],
         "yaxis": "y"
        },
        {
         "hovertemplate": "year=1993<br>month=%{x}<br>observations=%{y}<extra></extra>",
         "legendgroup": "1993",
         "line": {
          "color": "#ab63fa",
          "dash": "solid"
         },
         "marker": {
          "symbol": "circle"
         },
         "mode": "lines",
         "name": "1993",
         "orientation": "v",
         "showlegend": true,
         "type": "scatter",
         "x": [
          1,
          2,
          3,
          4,
          5,
          6,
          7,
          8,
          9,
          10,
          11,
          12
         ],
         "xaxis": "x",
         "y": [
          19,
          17,
          15,
          6,
          11,
          3,
          3,
          19,
          12,
          22,
          22,
          8
         ],
         "yaxis": "y"
        },
        {
         "hovertemplate": "year=1994<br>month=%{x}<br>observations=%{y}<extra></extra>",
         "legendgroup": "1994",
         "line": {
          "color": "#FFA15A",
          "dash": "solid"
         },
         "marker": {
          "symbol": "circle"
         },
         "mode": "lines",
         "name": "1994",
         "orientation": "v",
         "showlegend": true,
         "type": "scatter",
         "x": [
          1,
          2,
          3,
          4,
          5,
          6,
          7,
          8,
          9,
          10,
          11,
          12
         ],
         "xaxis": "x",
         "y": [
          15,
          16,
          16,
          23,
          26,
          19,
          24,
          26,
          39,
          44,
          19,
          14
         ],
         "yaxis": "y"
        },
        {
         "hovertemplate": "year=1995<br>month=%{x}<br>observations=%{y}<extra></extra>",
         "legendgroup": "1995",
         "line": {
          "color": "#19d3f3",
          "dash": "solid"
         },
         "marker": {
          "symbol": "circle"
         },
         "mode": "lines",
         "name": "1995",
         "orientation": "v",
         "showlegend": true,
         "type": "scatter",
         "x": [
          1,
          2,
          3,
          4,
          5,
          6,
          7,
          8,
          9,
          10,
          11,
          12
         ],
         "xaxis": "x",
         "y": [
          17,
          12,
          17,
          28,
          34,
          13,
          13,
          58,
          54,
          48,
          30,
          14
         ],
         "yaxis": "y"
        },
        {
         "hovertemplate": "year=1996<br>month=%{x}<br>observations=%{y}<extra></extra>",
         "legendgroup": "1996",
         "line": {
          "color": "#FF6692",
          "dash": "solid"
         },
         "marker": {
          "symbol": "circle"
         },
         "mode": "lines",
         "name": "1996",
         "orientation": "v",
         "showlegend": true,
         "type": "scatter",
         "x": [
          1,
          2,
          3,
          4,
          5,
          6,
          7,
          8,
          9,
          10,
          11,
          12
         ],
         "xaxis": "x",
         "y": [
          16,
          15,
          21,
          12,
          20,
          20,
          6,
          29,
          16,
          41,
          33,
          15
         ],
         "yaxis": "y"
        },
        {
         "hovertemplate": "year=1997<br>month=%{x}<br>observations=%{y}<extra></extra>",
         "legendgroup": "1997",
         "line": {
          "color": "#B6E880",
          "dash": "solid"
         },
         "marker": {
          "symbol": "circle"
         },
         "mode": "lines",
         "name": "1997",
         "orientation": "v",
         "showlegend": true,
         "type": "scatter",
         "x": [
          1,
          2,
          3,
          4,
          5,
          6,
          7,
          8,
          9,
          10,
          11,
          12
         ],
         "xaxis": "x",
         "y": [
          11,
          16,
          19,
          6,
          5,
          16,
          10,
          25,
          18,
          28,
          33,
          12
         ],
         "yaxis": "y"
        },
        {
         "hovertemplate": "year=1998<br>month=%{x}<br>observations=%{y}<extra></extra>",
         "legendgroup": "1998",
         "line": {
          "color": "#FF97FF",
          "dash": "solid"
         },
         "marker": {
          "symbol": "circle"
         },
         "mode": "lines",
         "name": "1998",
         "orientation": "v",
         "showlegend": true,
         "type": "scatter",
         "x": [
          1,
          2,
          3,
          4,
          5,
          6,
          7,
          8,
          9,
          10,
          11,
          12
         ],
         "xaxis": "x",
         "y": [
          23,
          18,
          27,
          21,
          25,
          21,
          15,
          18,
          11,
          41,
          25,
          19
         ],
         "yaxis": "y"
        },
        {
         "hovertemplate": "year=1999<br>month=%{x}<br>observations=%{y}<extra></extra>",
         "legendgroup": "1999",
         "line": {
          "color": "#FECB52",
          "dash": "solid"
         },
         "marker": {
          "symbol": "circle"
         },
         "mode": "lines",
         "name": "1999",
         "orientation": "v",
         "showlegend": true,
         "type": "scatter",
         "x": [
          1,
          2,
          3,
          4,
          5,
          6,
          7,
          8,
          9,
          10,
          11,
          12
         ],
         "xaxis": "x",
         "y": [
          16,
          18,
          19,
          8,
          25,
          25,
          8,
          22,
          21,
          24,
          17,
          19
         ],
         "yaxis": "y"
        },
        {
         "hovertemplate": "year=2000<br>month=%{x}<br>observations=%{y}<extra></extra>",
         "legendgroup": "2000",
         "line": {
          "color": "#636efa",
          "dash": "solid"
         },
         "marker": {
          "symbol": "circle"
         },
         "mode": "lines",
         "name": "2000",
         "orientation": "v",
         "showlegend": true,
         "type": "scatter",
         "x": [
          1,
          2,
          3,
          4,
          5,
          6,
          7,
          8,
          9,
          10,
          11,
          12
         ],
         "xaxis": "x",
         "y": [
          25,
          13,
          12,
          15,
          6,
          15,
          11,
          29,
          26,
          35,
          35,
          21
         ],
         "yaxis": "y"
        },
        {
         "hovertemplate": "year=2001<br>month=%{x}<br>observations=%{y}<extra></extra>",
         "legendgroup": "2001",
         "line": {
          "color": "#EF553B",
          "dash": "solid"
         },
         "marker": {
          "symbol": "circle"
         },
         "mode": "lines",
         "name": "2001",
         "orientation": "v",
         "showlegend": true,
         "type": "scatter",
         "x": [
          1,
          2,
          3,
          4,
          5,
          6,
          7,
          8,
          9,
          10,
          11,
          12
         ],
         "xaxis": "x",
         "y": [
          22,
          17,
          23,
          19,
          21,
          13,
          10,
          21,
          26,
          33,
          25,
          20
         ],
         "yaxis": "y"
        },
        {
         "hovertemplate": "year=2002<br>month=%{x}<br>observations=%{y}<extra></extra>",
         "legendgroup": "2002",
         "line": {
          "color": "#00cc96",
          "dash": "solid"
         },
         "marker": {
          "symbol": "circle"
         },
         "mode": "lines",
         "name": "2002",
         "orientation": "v",
         "showlegend": true,
         "type": "scatter",
         "x": [
          1,
          2,
          3,
          4,
          5,
          6,
          7,
          8,
          9,
          10,
          11,
          12
         ],
         "xaxis": "x",
         "y": [
          38,
          33,
          38,
          28,
          28,
          34,
          34,
          31,
          22,
          56,
          60,
          34
         ],
         "yaxis": "y"
        },
        {
         "hovertemplate": "year=2003<br>month=%{x}<br>observations=%{y}<extra></extra>",
         "legendgroup": "2003",
         "line": {
          "color": "#ab63fa",
          "dash": "solid"
         },
         "marker": {
          "symbol": "circle"
         },
         "mode": "lines",
         "name": "2003",
         "orientation": "v",
         "showlegend": true,
         "type": "scatter",
         "x": [
          1,
          2,
          3,
          4,
          5,
          6,
          7,
          8,
          9,
          10,
          11,
          12
         ],
         "xaxis": "x",
         "y": [
          80,
          43,
          47,
          25,
          43,
          29,
          29,
          40,
          10,
          51,
          57,
          67
         ],
         "yaxis": "y"
        },
        {
         "hovertemplate": "year=2004<br>month=%{x}<br>observations=%{y}<extra></extra>",
         "legendgroup": "2004",
         "line": {
          "color": "#FFA15A",
          "dash": "solid"
         },
         "marker": {
          "symbol": "circle"
         },
         "mode": "lines",
         "name": "2004",
         "orientation": "v",
         "showlegend": true,
         "type": "scatter",
         "x": [
          1,
          2,
          3,
          4,
          5,
          6,
          7,
          8,
          9,
          10,
          11,
          12
         ],
         "xaxis": "x",
         "y": [
          84,
          70,
          71,
          34,
          19,
          35,
          18,
          19,
          21,
          48,
          103,
          56
         ],
         "yaxis": "y"
        },
        {
         "hovertemplate": "year=2005<br>month=%{x}<br>observations=%{y}<extra></extra>",
         "legendgroup": "2005",
         "line": {
          "color": "#19d3f3",
          "dash": "solid"
         },
         "marker": {
          "symbol": "circle"
         },
         "mode": "lines",
         "name": "2005",
         "orientation": "v",
         "showlegend": true,
         "type": "scatter",
         "x": [
          1,
          2,
          3,
          4,
          5,
          6,
          7,
          8,
          9,
          10,
          11,
          12
         ],
         "xaxis": "x",
         "y": [
          56,
          76,
          68,
          34,
          18,
          23,
          18,
          11,
          21,
          44,
          65,
          50
         ],
         "yaxis": "y"
        },
        {
         "hovertemplate": "year=2006<br>month=%{x}<br>observations=%{y}<extra></extra>",
         "legendgroup": "2006",
         "line": {
          "color": "#FF6692",
          "dash": "solid"
         },
         "marker": {
          "symbol": "circle"
         },
         "mode": "lines",
         "name": "2006",
         "orientation": "v",
         "showlegend": true,
         "type": "scatter",
         "x": [
          1,
          2,
          3,
          4,
          5,
          6,
          7,
          8,
          9,
          10,
          11,
          12
         ],
         "xaxis": "x",
         "y": [
          91,
          81,
          84,
          38,
          49,
          44,
          37,
          19,
          28,
          68,
          161,
          131
         ],
         "yaxis": "y"
        },
        {
         "hovertemplate": "year=2007<br>month=%{x}<br>observations=%{y}<extra></extra>",
         "legendgroup": "2007",
         "line": {
          "color": "#B6E880",
          "dash": "solid"
         },
         "marker": {
          "symbol": "circle"
         },
         "mode": "lines",
         "name": "2007",
         "orientation": "v",
         "showlegend": true,
         "type": "scatter",
         "x": [
          1,
          2,
          3,
          4,
          5,
          6,
          7,
          8,
          9,
          10,
          11,
          12
         ],
         "xaxis": "x",
         "y": [
          138,
          115,
          114,
          42,
          49,
          27,
          24,
          36,
          20,
          75,
          180,
          130
         ],
         "yaxis": "y"
        },
        {
         "hovertemplate": "year=2008<br>month=%{x}<br>observations=%{y}<extra></extra>",
         "legendgroup": "2008",
         "line": {
          "color": "#FF97FF",
          "dash": "solid"
         },
         "marker": {
          "symbol": "circle"
         },
         "mode": "lines",
         "name": "2008",
         "orientation": "v",
         "showlegend": true,
         "type": "scatter",
         "x": [
          1,
          2,
          3,
          4,
          5,
          6,
          7,
          8,
          9,
          10,
          11,
          12
         ],
         "xaxis": "x",
         "y": [
          128,
          110,
          91,
          50,
          30,
          30,
          15,
          14,
          45,
          33,
          115,
          103
         ],
         "yaxis": "y"
        },
        {
         "hovertemplate": "year=2009<br>month=%{x}<br>observations=%{y}<extra></extra>",
         "legendgroup": "2009",
         "line": {
          "color": "#FECB52",
          "dash": "solid"
         },
         "marker": {
          "symbol": "circle"
         },
         "mode": "lines",
         "name": "2009",
         "orientation": "v",
         "showlegend": true,
         "type": "scatter",
         "x": [
          1,
          2,
          3,
          4,
          5,
          6,
          7,
          8,
          9,
          10,
          11,
          12
         ],
         "xaxis": "x",
         "y": [
          185,
          106,
          123,
          72,
          83,
          70,
          49,
          82,
          62,
          84,
          217,
          174
         ],
         "yaxis": "y"
        },
        {
         "hovertemplate": "year=2010<br>month=%{x}<br>observations=%{y}<extra></extra>",
         "legendgroup": "2010",
         "line": {
          "color": "#636efa",
          "dash": "solid"
         },
         "marker": {
          "symbol": "circle"
         },
         "mode": "lines",
         "name": "2010",
         "orientation": "v",
         "showlegend": true,
         "type": "scatter",
         "x": [
          1,
          2,
          3,
          4,
          5,
          6,
          7,
          8,
          9,
          10,
          11,
          12
         ],
         "xaxis": "x",
         "y": [
          251,
          250,
          225,
          157,
          123,
          78,
          70,
          59,
          68,
          175,
          226,
          309
         ],
         "yaxis": "y"
        },
        {
         "hovertemplate": "year=2011<br>month=%{x}<br>observations=%{y}<extra></extra>",
         "legendgroup": "2011",
         "line": {
          "color": "#EF553B",
          "dash": "solid"
         },
         "marker": {
          "symbol": "circle"
         },
         "mode": "lines",
         "name": "2011",
         "orientation": "v",
         "showlegend": true,
         "type": "scatter",
         "x": [
          1,
          2,
          3,
          4,
          5,
          6,
          7,
          8,
          9,
          10,
          11,
          12
         ],
         "xaxis": "x",
         "y": [
          366,
          355,
          256,
          158,
          148,
          47,
          77,
          84,
          79,
          197,
          248,
          288
         ],
         "yaxis": "y"
        },
        {
         "hovertemplate": "year=2012<br>month=%{x}<br>observations=%{y}<extra></extra>",
         "legendgroup": "2012",
         "line": {
          "color": "#00cc96",
          "dash": "solid"
         },
         "marker": {
          "symbol": "circle"
         },
         "mode": "lines",
         "name": "2012",
         "orientation": "v",
         "showlegend": true,
         "type": "scatter",
         "x": [
          1,
          2,
          3,
          4,
          5,
          6,
          7,
          8,
          9,
          10,
          11,
          12
         ],
         "xaxis": "x",
         "y": [
          512,
          409,
          362,
          205,
          173,
          161,
          143,
          97,
          117,
          225,
          349,
          451
         ],
         "yaxis": "y"
        },
        {
         "hovertemplate": "year=2013<br>month=%{x}<br>observations=%{y}<extra></extra>",
         "legendgroup": "2013",
         "line": {
          "color": "#ab63fa",
          "dash": "solid"
         },
         "marker": {
          "symbol": "circle"
         },
         "mode": "lines",
         "name": "2013",
         "orientation": "v",
         "showlegend": true,
         "type": "scatter",
         "x": [
          1,
          2,
          3,
          4,
          5,
          6,
          7,
          8,
          9,
          10,
          11,
          12
         ],
         "xaxis": "x",
         "y": [
          575,
          665,
          400,
          284,
          257,
          121,
          127,
          100,
          134,
          254,
          402,
          633
         ],
         "yaxis": "y"
        },
        {
         "hovertemplate": "year=2014<br>month=%{x}<br>observations=%{y}<extra></extra>",
         "legendgroup": "2014",
         "line": {
          "color": "#FFA15A",
          "dash": "solid"
         },
         "marker": {
          "symbol": "circle"
         },
         "mode": "lines",
         "name": "2014",
         "orientation": "v",
         "showlegend": true,
         "type": "scatter",
         "x": [
          1,
          2,
          3,
          4,
          5,
          6,
          7,
          8,
          9,
          10,
          11,
          12
         ],
         "xaxis": "x",
         "y": [
          669,
          489,
          630,
          441,
          299,
          194,
          205,
          166,
          204,
          266,
          595,
          547
         ],
         "yaxis": "y"
        },
        {
         "hovertemplate": "year=2015<br>month=%{x}<br>observations=%{y}<extra></extra>",
         "legendgroup": "2015",
         "line": {
          "color": "#19d3f3",
          "dash": "solid"
         },
         "marker": {
          "symbol": "circle"
         },
         "mode": "lines",
         "name": "2015",
         "orientation": "v",
         "showlegend": true,
         "type": "scatter",
         "x": [
          1,
          2,
          3,
          4,
          5,
          6,
          7,
          8,
          9,
          10,
          11,
          12
         ],
         "xaxis": "x",
         "y": [
          1019,
          647,
          717,
          468,
          403,
          241,
          195,
          216,
          235,
          321,
          505,
          578
         ],
         "yaxis": "y"
        },
        {
         "hovertemplate": "year=2016<br>month=%{x}<br>observations=%{y}<extra></extra>",
         "legendgroup": "2016",
         "line": {
          "color": "#FF6692",
          "dash": "solid"
         },
         "marker": {
          "symbol": "circle"
         },
         "mode": "lines",
         "name": "2016",
         "orientation": "v",
         "showlegend": true,
         "type": "scatter",
         "x": [
          1,
          2,
          3,
          4,
          5,
          6,
          7,
          8,
          9,
          10,
          11,
          12
         ],
         "xaxis": "x",
         "y": [
          749,
          634,
          530,
          424,
          483,
          353,
          330,
          359,
          239,
          488,
          636,
          787
         ],
         "yaxis": "y"
        },
        {
         "hovertemplate": "year=2017<br>month=%{x}<br>observations=%{y}<extra></extra>",
         "legendgroup": "2017",
         "line": {
          "color": "#B6E880",
          "dash": "solid"
         },
         "marker": {
          "symbol": "circle"
         },
         "mode": "lines",
         "name": "2017",
         "orientation": "v",
         "showlegend": true,
         "type": "scatter",
         "x": [
          1,
          2,
          3,
          4,
          5,
          6,
          7,
          8,
          9,
          10,
          11,
          12
         ],
         "xaxis": "x",
         "y": [
          907,
          1118,
          937,
          691,
          692,
          393,
          372,
          376,
          503,
          775,
          1178,
          1190
         ],
         "yaxis": "y"
        },
        {
         "hovertemplate": "year=2018<br>month=%{x}<br>observations=%{y}<extra></extra>",
         "legendgroup": "2018",
         "line": {
          "color": "#FF97FF",
          "dash": "solid"
         },
         "marker": {
          "symbol": "circle"
         },
         "mode": "lines",
         "name": "2018",
         "orientation": "v",
         "showlegend": true,
         "type": "scatter",
         "x": [
          1,
          2,
          3,
          4,
          5,
          6,
          7,
          8,
          9,
          10,
          11,
          12
         ],
         "xaxis": "x",
         "y": [
          1500,
          1160,
          1225,
          931,
          812,
          422,
          486,
          589,
          562,
          988,
          1122,
          1523
         ],
         "yaxis": "y"
        },
        {
         "hovertemplate": "year=2019<br>month=%{x}<br>observations=%{y}<extra></extra>",
         "legendgroup": "2019",
         "line": {
          "color": "#FECB52",
          "dash": "solid"
         },
         "marker": {
          "symbol": "circle"
         },
         "mode": "lines",
         "name": "2019",
         "orientation": "v",
         "showlegend": true,
         "type": "scatter",
         "x": [
          1,
          2,
          3,
          4,
          5,
          6,
          7,
          8,
          9,
          10,
          11,
          12
         ],
         "xaxis": "x",
         "y": [
          1643,
          1358,
          1715,
          1131,
          883,
          558,
          590,
          606,
          615,
          994,
          1361,
          1387
         ],
         "yaxis": "y"
        },
        {
         "hovertemplate": "year=2020<br>month=%{x}<br>observations=%{y}<extra></extra>",
         "legendgroup": "2020",
         "line": {
          "color": "#636efa",
          "dash": "solid"
         },
         "marker": {
          "symbol": "circle"
         },
         "mode": "lines",
         "name": "2020",
         "orientation": "v",
         "showlegend": true,
         "type": "scatter",
         "x": [
          1,
          2,
          3,
          4,
          5,
          6,
          7,
          8,
          9,
          10,
          11,
          12
         ],
         "xaxis": "x",
         "y": [
          1787,
          1498,
          1521,
          1352,
          1148,
          661,
          669,
          893,
          985,
          1939,
          2052,
          2409
         ],
         "yaxis": "y"
        },
        {
         "hovertemplate": "year=2021<br>month=%{x}<br>observations=%{y}<extra></extra>",
         "legendgroup": "2021",
         "line": {
          "color": "#EF553B",
          "dash": "solid"
         },
         "marker": {
          "symbol": "circle"
         },
         "mode": "lines",
         "name": "2021",
         "orientation": "v",
         "showlegend": true,
         "type": "scatter",
         "x": [
          1,
          2,
          3,
          4,
          5,
          6,
          7,
          8,
          9,
          10,
          11,
          12
         ],
         "xaxis": "x",
         "y": [
          2382,
          2057,
          2093,
          1620,
          1433,
          813,
          881,
          653,
          838,
          1347,
          1834,
          2070
         ],
         "yaxis": "y"
        },
        {
         "hovertemplate": "year=2022<br>month=%{x}<br>observations=%{y}<extra></extra>",
         "legendgroup": "2022",
         "line": {
          "color": "#00cc96",
          "dash": "solid"
         },
         "marker": {
          "symbol": "circle"
         },
         "mode": "lines",
         "name": "2022",
         "orientation": "v",
         "showlegend": true,
         "type": "scatter",
         "x": [
          1,
          2,
          3,
          4,
          5,
          6,
          7,
          8,
          9,
          10,
          11,
          12
         ],
         "xaxis": "x",
         "y": [
          2293,
          2170,
          2084,
          1421,
          1163,
          806,
          913,
          854,
          1040,
          1532,
          1961,
          2358
         ],
         "yaxis": "y"
        },
        {
         "line": {
          "dash": "dash"
         },
         "mode": "lines",
         "name": "Polynomial Approximation (2022)",
         "type": "scatter",
         "visible": "legendonly",
         "x": [
          1,
          2,
          3,
          4,
          5,
          6,
          7,
          8,
          9,
          10,
          11,
          12
         ],
         "y": [
          2279.4230769230708,
          2245.487762237765,
          1936.4475524475554,
          1526.4877622377628,
          1144.9650349650321,
          879.9650349650294,
          781.8601398601334,
          866.8671328671192,
          1120.6048951048804,
          1501.6520979020809,
          1945.1048951048765,
          2366.1346153846134
         ]
        },
        {
         "mode": "markers",
         "name": "Inflection Points",
         "type": "scatter",
         "x": [
          16.285323088729555,
          8.23649844969346,
          3.0206792820541923
         ],
         "y": [
          16.285323088729555,
          8.23649844969346,
          3.0206792820541923
         ]
        }
       ],
       "layout": {
        "legend": {
         "title": {
          "text": "year"
         },
         "tracegroupgap": 0
        },
        "template": {
         "data": {
          "bar": [
           {
            "error_x": {
             "color": "#2a3f5f"
            },
            "error_y": {
             "color": "#2a3f5f"
            },
            "marker": {
             "line": {
              "color": "#E5ECF6",
              "width": 0.5
             },
             "pattern": {
              "fillmode": "overlay",
              "size": 10,
              "solidity": 0.2
             }
            },
            "type": "bar"
           }
          ],
          "barpolar": [
           {
            "marker": {
             "line": {
              "color": "#E5ECF6",
              "width": 0.5
             },
             "pattern": {
              "fillmode": "overlay",
              "size": 10,
              "solidity": 0.2
             }
            },
            "type": "barpolar"
           }
          ],
          "carpet": [
           {
            "aaxis": {
             "endlinecolor": "#2a3f5f",
             "gridcolor": "white",
             "linecolor": "white",
             "minorgridcolor": "white",
             "startlinecolor": "#2a3f5f"
            },
            "baxis": {
             "endlinecolor": "#2a3f5f",
             "gridcolor": "white",
             "linecolor": "white",
             "minorgridcolor": "white",
             "startlinecolor": "#2a3f5f"
            },
            "type": "carpet"
           }
          ],
          "choropleth": [
           {
            "colorbar": {
             "outlinewidth": 0,
             "ticks": ""
            },
            "type": "choropleth"
           }
          ],
          "contour": [
           {
            "colorbar": {
             "outlinewidth": 0,
             "ticks": ""
            },
            "colorscale": [
             [
              0,
              "#0d0887"
             ],
             [
              0.1111111111111111,
              "#46039f"
             ],
             [
              0.2222222222222222,
              "#7201a8"
             ],
             [
              0.3333333333333333,
              "#9c179e"
             ],
             [
              0.4444444444444444,
              "#bd3786"
             ],
             [
              0.5555555555555556,
              "#d8576b"
             ],
             [
              0.6666666666666666,
              "#ed7953"
             ],
             [
              0.7777777777777778,
              "#fb9f3a"
             ],
             [
              0.8888888888888888,
              "#fdca26"
             ],
             [
              1,
              "#f0f921"
             ]
            ],
            "type": "contour"
           }
          ],
          "contourcarpet": [
           {
            "colorbar": {
             "outlinewidth": 0,
             "ticks": ""
            },
            "type": "contourcarpet"
           }
          ],
          "heatmap": [
           {
            "colorbar": {
             "outlinewidth": 0,
             "ticks": ""
            },
            "colorscale": [
             [
              0,
              "#0d0887"
             ],
             [
              0.1111111111111111,
              "#46039f"
             ],
             [
              0.2222222222222222,
              "#7201a8"
             ],
             [
              0.3333333333333333,
              "#9c179e"
             ],
             [
              0.4444444444444444,
              "#bd3786"
             ],
             [
              0.5555555555555556,
              "#d8576b"
             ],
             [
              0.6666666666666666,
              "#ed7953"
             ],
             [
              0.7777777777777778,
              "#fb9f3a"
             ],
             [
              0.8888888888888888,
              "#fdca26"
             ],
             [
              1,
              "#f0f921"
             ]
            ],
            "type": "heatmap"
           }
          ],
          "heatmapgl": [
           {
            "colorbar": {
             "outlinewidth": 0,
             "ticks": ""
            },
            "colorscale": [
             [
              0,
              "#0d0887"
             ],
             [
              0.1111111111111111,
              "#46039f"
             ],
             [
              0.2222222222222222,
              "#7201a8"
             ],
             [
              0.3333333333333333,
              "#9c179e"
             ],
             [
              0.4444444444444444,
              "#bd3786"
             ],
             [
              0.5555555555555556,
              "#d8576b"
             ],
             [
              0.6666666666666666,
              "#ed7953"
             ],
             [
              0.7777777777777778,
              "#fb9f3a"
             ],
             [
              0.8888888888888888,
              "#fdca26"
             ],
             [
              1,
              "#f0f921"
             ]
            ],
            "type": "heatmapgl"
           }
          ],
          "histogram": [
           {
            "marker": {
             "pattern": {
              "fillmode": "overlay",
              "size": 10,
              "solidity": 0.2
             }
            },
            "type": "histogram"
           }
          ],
          "histogram2d": [
           {
            "colorbar": {
             "outlinewidth": 0,
             "ticks": ""
            },
            "colorscale": [
             [
              0,
              "#0d0887"
             ],
             [
              0.1111111111111111,
              "#46039f"
             ],
             [
              0.2222222222222222,
              "#7201a8"
             ],
             [
              0.3333333333333333,
              "#9c179e"
             ],
             [
              0.4444444444444444,
              "#bd3786"
             ],
             [
              0.5555555555555556,
              "#d8576b"
             ],
             [
              0.6666666666666666,
              "#ed7953"
             ],
             [
              0.7777777777777778,
              "#fb9f3a"
             ],
             [
              0.8888888888888888,
              "#fdca26"
             ],
             [
              1,
              "#f0f921"
             ]
            ],
            "type": "histogram2d"
           }
          ],
          "histogram2dcontour": [
           {
            "colorbar": {
             "outlinewidth": 0,
             "ticks": ""
            },
            "colorscale": [
             [
              0,
              "#0d0887"
             ],
             [
              0.1111111111111111,
              "#46039f"
             ],
             [
              0.2222222222222222,
              "#7201a8"
             ],
             [
              0.3333333333333333,
              "#9c179e"
             ],
             [
              0.4444444444444444,
              "#bd3786"
             ],
             [
              0.5555555555555556,
              "#d8576b"
             ],
             [
              0.6666666666666666,
              "#ed7953"
             ],
             [
              0.7777777777777778,
              "#fb9f3a"
             ],
             [
              0.8888888888888888,
              "#fdca26"
             ],
             [
              1,
              "#f0f921"
             ]
            ],
            "type": "histogram2dcontour"
           }
          ],
          "mesh3d": [
           {
            "colorbar": {
             "outlinewidth": 0,
             "ticks": ""
            },
            "type": "mesh3d"
           }
          ],
          "parcoords": [
           {
            "line": {
             "colorbar": {
              "outlinewidth": 0,
              "ticks": ""
             }
            },
            "type": "parcoords"
           }
          ],
          "pie": [
           {
            "automargin": true,
            "type": "pie"
           }
          ],
          "scatter": [
           {
            "fillpattern": {
             "fillmode": "overlay",
             "size": 10,
             "solidity": 0.2
            },
            "type": "scatter"
           }
          ],
          "scatter3d": [
           {
            "line": {
             "colorbar": {
              "outlinewidth": 0,
              "ticks": ""
             }
            },
            "marker": {
             "colorbar": {
              "outlinewidth": 0,
              "ticks": ""
             }
            },
            "type": "scatter3d"
           }
          ],
          "scattercarpet": [
           {
            "marker": {
             "colorbar": {
              "outlinewidth": 0,
              "ticks": ""
             }
            },
            "type": "scattercarpet"
           }
          ],
          "scattergeo": [
           {
            "marker": {
             "colorbar": {
              "outlinewidth": 0,
              "ticks": ""
             }
            },
            "type": "scattergeo"
           }
          ],
          "scattergl": [
           {
            "marker": {
             "colorbar": {
              "outlinewidth": 0,
              "ticks": ""
             }
            },
            "type": "scattergl"
           }
          ],
          "scattermapbox": [
           {
            "marker": {
             "colorbar": {
              "outlinewidth": 0,
              "ticks": ""
             }
            },
            "type": "scattermapbox"
           }
          ],
          "scatterpolar": [
           {
            "marker": {
             "colorbar": {
              "outlinewidth": 0,
              "ticks": ""
             }
            },
            "type": "scatterpolar"
           }
          ],
          "scatterpolargl": [
           {
            "marker": {
             "colorbar": {
              "outlinewidth": 0,
              "ticks": ""
             }
            },
            "type": "scatterpolargl"
           }
          ],
          "scatterternary": [
           {
            "marker": {
             "colorbar": {
              "outlinewidth": 0,
              "ticks": ""
             }
            },
            "type": "scatterternary"
           }
          ],
          "surface": [
           {
            "colorbar": {
             "outlinewidth": 0,
             "ticks": ""
            },
            "colorscale": [
             [
              0,
              "#0d0887"
             ],
             [
              0.1111111111111111,
              "#46039f"
             ],
             [
              0.2222222222222222,
              "#7201a8"
             ],
             [
              0.3333333333333333,
              "#9c179e"
             ],
             [
              0.4444444444444444,
              "#bd3786"
             ],
             [
              0.5555555555555556,
              "#d8576b"
             ],
             [
              0.6666666666666666,
              "#ed7953"
             ],
             [
              0.7777777777777778,
              "#fb9f3a"
             ],
             [
              0.8888888888888888,
              "#fdca26"
             ],
             [
              1,
              "#f0f921"
             ]
            ],
            "type": "surface"
           }
          ],
          "table": [
           {
            "cells": {
             "fill": {
              "color": "#EBF0F8"
             },
             "line": {
              "color": "white"
             }
            },
            "header": {
             "fill": {
              "color": "#C8D4E3"
             },
             "line": {
              "color": "white"
             }
            },
            "type": "table"
           }
          ]
         },
         "layout": {
          "annotationdefaults": {
           "arrowcolor": "#2a3f5f",
           "arrowhead": 0,
           "arrowwidth": 1
          },
          "autotypenumbers": "strict",
          "coloraxis": {
           "colorbar": {
            "outlinewidth": 0,
            "ticks": ""
           }
          },
          "colorscale": {
           "diverging": [
            [
             0,
             "#8e0152"
            ],
            [
             0.1,
             "#c51b7d"
            ],
            [
             0.2,
             "#de77ae"
            ],
            [
             0.3,
             "#f1b6da"
            ],
            [
             0.4,
             "#fde0ef"
            ],
            [
             0.5,
             "#f7f7f7"
            ],
            [
             0.6,
             "#e6f5d0"
            ],
            [
             0.7,
             "#b8e186"
            ],
            [
             0.8,
             "#7fbc41"
            ],
            [
             0.9,
             "#4d9221"
            ],
            [
             1,
             "#276419"
            ]
           ],
           "sequential": [
            [
             0,
             "#0d0887"
            ],
            [
             0.1111111111111111,
             "#46039f"
            ],
            [
             0.2222222222222222,
             "#7201a8"
            ],
            [
             0.3333333333333333,
             "#9c179e"
            ],
            [
             0.4444444444444444,
             "#bd3786"
            ],
            [
             0.5555555555555556,
             "#d8576b"
            ],
            [
             0.6666666666666666,
             "#ed7953"
            ],
            [
             0.7777777777777778,
             "#fb9f3a"
            ],
            [
             0.8888888888888888,
             "#fdca26"
            ],
            [
             1,
             "#f0f921"
            ]
           ],
           "sequentialminus": [
            [
             0,
             "#0d0887"
            ],
            [
             0.1111111111111111,
             "#46039f"
            ],
            [
             0.2222222222222222,
             "#7201a8"
            ],
            [
             0.3333333333333333,
             "#9c179e"
            ],
            [
             0.4444444444444444,
             "#bd3786"
            ],
            [
             0.5555555555555556,
             "#d8576b"
            ],
            [
             0.6666666666666666,
             "#ed7953"
            ],
            [
             0.7777777777777778,
             "#fb9f3a"
            ],
            [
             0.8888888888888888,
             "#fdca26"
            ],
            [
             1,
             "#f0f921"
            ]
           ]
          },
          "colorway": [
           "#636efa",
           "#EF553B",
           "#00cc96",
           "#ab63fa",
           "#FFA15A",
           "#19d3f3",
           "#FF6692",
           "#B6E880",
           "#FF97FF",
           "#FECB52"
          ],
          "font": {
           "color": "#2a3f5f"
          },
          "geo": {
           "bgcolor": "white",
           "lakecolor": "white",
           "landcolor": "#E5ECF6",
           "showlakes": true,
           "showland": true,
           "subunitcolor": "white"
          },
          "hoverlabel": {
           "align": "left"
          },
          "hovermode": "closest",
          "mapbox": {
           "style": "light"
          },
          "paper_bgcolor": "white",
          "plot_bgcolor": "#E5ECF6",
          "polar": {
           "angularaxis": {
            "gridcolor": "white",
            "linecolor": "white",
            "ticks": ""
           },
           "bgcolor": "#E5ECF6",
           "radialaxis": {
            "gridcolor": "white",
            "linecolor": "white",
            "ticks": ""
           }
          },
          "scene": {
           "xaxis": {
            "backgroundcolor": "#E5ECF6",
            "gridcolor": "white",
            "gridwidth": 2,
            "linecolor": "white",
            "showbackground": true,
            "ticks": "",
            "zerolinecolor": "white"
           },
           "yaxis": {
            "backgroundcolor": "#E5ECF6",
            "gridcolor": "white",
            "gridwidth": 2,
            "linecolor": "white",
            "showbackground": true,
            "ticks": "",
            "zerolinecolor": "white"
           },
           "zaxis": {
            "backgroundcolor": "#E5ECF6",
            "gridcolor": "white",
            "gridwidth": 2,
            "linecolor": "white",
            "showbackground": true,
            "ticks": "",
            "zerolinecolor": "white"
           }
          },
          "shapedefaults": {
           "line": {
            "color": "#2a3f5f"
           }
          },
          "ternary": {
           "aaxis": {
            "gridcolor": "white",
            "linecolor": "white",
            "ticks": ""
           },
           "baxis": {
            "gridcolor": "white",
            "linecolor": "white",
            "ticks": ""
           },
           "bgcolor": "#E5ECF6",
           "caxis": {
            "gridcolor": "white",
            "linecolor": "white",
            "ticks": ""
           }
          },
          "title": {
           "x": 0.05
          },
          "xaxis": {
           "automargin": true,
           "gridcolor": "white",
           "linecolor": "white",
           "ticks": "",
           "title": {
            "standoff": 15
           },
           "zerolinecolor": "white",
           "zerolinewidth": 2
          },
          "yaxis": {
           "automargin": true,
           "gridcolor": "white",
           "linecolor": "white",
           "ticks": "",
           "title": {
            "standoff": 15
           },
           "zerolinecolor": "white",
           "zerolinewidth": 2
          }
         }
        },
        "title": {
         "text": "Observation Count for American Crow by Month"
        },
        "xaxis": {
         "anchor": "y",
         "domain": [
          0,
          1
         ],
         "title": {
          "text": "month"
         }
        },
        "yaxis": {
         "anchor": "x",
         "domain": [
          0,
          1
         ],
         "title": {
          "text": "observations"
         }
        }
       }
      }
     },
     "metadata": {},
     "output_type": "display_data"
    }
   ],
   "source": [
    "plot_obervations_with_polynomial_fit(ebird_data, 'American Crow', 'month', 5)\n"
   ]
  },
  {
   "cell_type": "code",
   "execution_count": null,
   "metadata": {},
   "outputs": [],
   "source": []
  }
 ],
 "metadata": {
  "kernelspec": {
   "display_name": "base",
   "language": "python",
   "name": "python3"
  },
  "language_info": {
   "codemirror_mode": {
    "name": "ipython",
    "version": 3
   },
   "file_extension": ".py",
   "mimetype": "text/x-python",
   "name": "python",
   "nbconvert_exporter": "python",
   "pygments_lexer": "ipython3",
   "version": "3.11.4"
  }
 },
 "nbformat": 4,
 "nbformat_minor": 2
}
